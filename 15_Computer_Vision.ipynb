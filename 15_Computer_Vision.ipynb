{
  "nbformat": 4,
  "nbformat_minor": 0,
  "metadata": {
    "colab": {
      "name": "15_Computer_Vision",
      "version": "0.3.2",
      "provenance": [],
      "collapsed_sections": [
        "W_2LVROYwFyL",
        "muXdsetFx4QW",
        "p2SLUqQp6S4-",
        "cOH5OuG07Ohv",
        "gbIKSQ5a7jsG",
        "DyfX-utj8JTz",
        "TtnGYqxk9Hxc",
        "OdZfoEKc-BBm",
        "kCkVhv54G6Ui",
        "5rz1g7FrOlQg",
        "KFEGIgA1NKJ-"
      ],
      "include_colab_link": true
    },
    "kernelspec": {
      "name": "python3",
      "display_name": "Python 3"
    },
    "accelerator": "GPU"
  },
  "cells": [
    {
      "cell_type": "markdown",
      "metadata": {
        "id": "view-in-github",
        "colab_type": "text"
      },
      "source": [
        "<a href=\"https://colab.research.google.com/github/zoujiemeng/the-road-of-ML-pytorch-/blob/master/15_Computer_Vision.ipynb\" target=\"_parent\"><img src=\"https://colab.research.google.com/assets/colab-badge.svg\" alt=\"Open In Colab\"/></a>"
      ]
    },
    {
      "metadata": {
        "id": "bOChJSNXtC9g",
        "colab_type": "text"
      },
      "cell_type": "markdown",
      "source": [
        "# Computer Vision"
      ]
    },
    {
      "metadata": {
        "id": "OLIxEDq6VhvZ",
        "colab_type": "text"
      },
      "cell_type": "markdown",
      "source": [
        "<img src=\"https://raw.githubusercontent.com/GokuMohandas/practicalAI/master/images/logo.png\" width=150>\n",
        "\n",
        "In this notebook we're going to cover the basics of computer vision using CNNs. So far we've explored using CNNs for text but their initial origin began with computer vision tasks.\n",
        "\n",
        "\n"
      ]
    },
    {
      "metadata": {
        "id": "wKX2R_FT4hSQ",
        "colab_type": "text"
      },
      "cell_type": "markdown",
      "source": [
        "<img src=\"https://raw.githubusercontent.com/GokuMohandas/practicalAI/master/images/cnn_cv.png\" width=650>"
      ]
    },
    {
      "metadata": {
        "id": "WhPQxVDRvMWG",
        "colab_type": "text"
      },
      "cell_type": "markdown",
      "source": [
        "# Configuration"
      ]
    },
    {
      "metadata": {
        "id": "GBOpAGnTvJ2L",
        "colab_type": "code",
        "colab": {}
      },
      "cell_type": "code",
      "source": [
        "config = {\n",
        "  \"seed\": 1234,\n",
        "  \"cuda\": True,\n",
        "  \"data_url\": \"https://raw.githubusercontent.com/GokuMohandas/practicalAI/master/data/surnames.csv\",\n",
        "  \"data_dir\": \"cifar10\",\n",
        "  \"shuffle\": True,\n",
        "  \"train_size\": 0.7,\n",
        "  \"val_size\": 0.15,\n",
        "  \"test_size\": 0.15,\n",
        "  \"vectorizer_file\": \"vectorizer.json\",\n",
        "  \"model_file\": \"model.pth\",\n",
        "  \"save_dir\": \"experiments\",\n",
        "  \"num_epochs\": 5,\n",
        "  \"early_stopping_criteria\": 5,\n",
        "  \"learning_rate\": 1e-3,\n",
        "  \"batch_size\": 128,\n",
        "  \"fc\": {\n",
        "    \"hidden_dim\": 100,\n",
        "    \"dropout_p\": 0.1\n",
        "  }\n",
        "}"
      ],
      "execution_count": 0,
      "outputs": []
    },
    {
      "metadata": {
        "id": "ptkKF5Fov-SD",
        "colab_type": "text"
      },
      "cell_type": "markdown",
      "source": [
        "# Set up"
      ]
    },
    {
      "metadata": {
        "id": "R_rteDFbvKPc",
        "colab_type": "code",
        "colab": {
          "base_uri": "https://localhost:8080/",
          "height": 35
        },
        "outputId": "d1ec34bc-dcaf-490b-dde1-252e03196011"
      },
      "cell_type": "code",
      "source": [
        "# Load PyTorch library\n",
        "!pip3 install torch"
      ],
      "execution_count": 2,
      "outputs": [
        {
          "output_type": "stream",
          "text": [
            "Requirement already satisfied: torch in /usr/local/lib/python3.6/dist-packages (1.0.1.post2)\n"
          ],
          "name": "stdout"
        }
      ]
    },
    {
      "metadata": {
        "id": "hVe2_gEuvKfr",
        "colab_type": "code",
        "colab": {}
      },
      "cell_type": "code",
      "source": [
        "import os\n",
        "import json\n",
        "import numpy as np\n",
        "import time\n",
        "import torch\n",
        "import uuid"
      ],
      "execution_count": 0,
      "outputs": []
    },
    {
      "metadata": {
        "id": "W_2LVROYwFyL",
        "colab_type": "text"
      },
      "cell_type": "markdown",
      "source": [
        "### Components"
      ]
    },
    {
      "metadata": {
        "id": "uvBG7wQzvKx-",
        "colab_type": "code",
        "colab": {}
      },
      "cell_type": "code",
      "source": [
        "def set_seeds(seed, cuda):\n",
        "    \"\"\" Set Numpy and PyTorch seeds.\n",
        "    \"\"\"\n",
        "    np.random.seed(seed)\n",
        "    torch.manual_seed(seed)\n",
        "    if cuda:\n",
        "        torch.cuda.manual_seed_all(seed)\n",
        "    print (\"==> 🌱 Set NumPy and PyTorch seeds.\")"
      ],
      "execution_count": 0,
      "outputs": []
    },
    {
      "metadata": {
        "id": "29_qNeT9wKTc",
        "colab_type": "code",
        "colab": {}
      },
      "cell_type": "code",
      "source": [
        "def generate_unique_id():\n",
        "    \"\"\"Generate a unique uuid\n",
        "    preceded by a epochtime.\n",
        "    \"\"\"\n",
        "    timestamp = int(time.time())\n",
        "    unique_id = \"{}_{}\".format(timestamp, uuid.uuid1())\n",
        "    print (\"==> 🔑 Generated unique id: {0}\".format(unique_id))\n",
        "    return unique_id"
      ],
      "execution_count": 0,
      "outputs": []
    },
    {
      "metadata": {
        "id": "nyjHX3DzwKZY",
        "colab_type": "code",
        "colab": {}
      },
      "cell_type": "code",
      "source": [
        "def create_dirs(dirpath):\n",
        "    \"\"\"Creating directories.\n",
        "    \"\"\"\n",
        "    if not os.path.exists(dirpath):\n",
        "        os.makedirs(dirpath)\n",
        "        print (\"==> 📂 Created {0}\".format(dirpath))"
      ],
      "execution_count": 0,
      "outputs": []
    },
    {
      "metadata": {
        "id": "Q2nZw4grwKQS",
        "colab_type": "code",
        "colab": {}
      },
      "cell_type": "code",
      "source": [
        "def check_cuda(cuda):\n",
        "    \"\"\"Check to see if GPU is available.\n",
        "    \"\"\"\n",
        "    if not torch.cuda.is_available():\n",
        "        cuda = False\n",
        "    device = torch.device(\"cuda\" if cuda else \"cpu\")\n",
        "    print (\"==> 💻 Device: {0}\".format(device))\n",
        "    return device"
      ],
      "execution_count": 0,
      "outputs": []
    },
    {
      "metadata": {
        "id": "lA0uwEUlwHjO",
        "colab_type": "text"
      },
      "cell_type": "markdown",
      "source": [
        "### Operations"
      ]
    },
    {
      "metadata": {
        "id": "gt8SiXgavK38",
        "colab_type": "code",
        "outputId": "1ddb9c42-dcb9-44a2-caa6-aa7d8b40aa8d",
        "colab": {
          "base_uri": "https://localhost:8080/",
          "height": 35
        }
      },
      "cell_type": "code",
      "source": [
        "# Set seeds for reproducability\n",
        "set_seeds(seed=config[\"seed\"], cuda=config[\"cuda\"])"
      ],
      "execution_count": 8,
      "outputs": [
        {
          "output_type": "stream",
          "text": [
            "==> 🌱 Set NumPy and PyTorch seeds.\n"
          ],
          "name": "stdout"
        }
      ]
    },
    {
      "metadata": {
        "id": "xAkZJMckvK1s",
        "colab_type": "code",
        "outputId": "aa3c5bc3-9d48-426e-d85f-7d6f28b0b208",
        "colab": {
          "base_uri": "https://localhost:8080/",
          "height": 35
        }
      },
      "cell_type": "code",
      "source": [
        "# Generate unique experiment ID\n",
        "config[\"experiment_id\"] = generate_unique_id()"
      ],
      "execution_count": 9,
      "outputs": [
        {
          "output_type": "stream",
          "text": [
            "==> 🔑 Generated unique id: 1556180308_b47ddee2-6732-11e9-ba25-0242ac1c0002\n"
          ],
          "name": "stdout"
        }
      ]
    },
    {
      "metadata": {
        "id": "MQeZH6oqvKu5",
        "colab_type": "code",
        "outputId": "45f71067-0eec-4048-d440-90e62037361e",
        "colab": {
          "base_uri": "https://localhost:8080/",
          "height": 35
        }
      },
      "cell_type": "code",
      "source": [
        "# Create experiment directory\n",
        "config[\"save_dir\"] = os.path.join(config[\"save_dir\"], config[\"experiment_id\"])\n",
        "create_dirs(dirpath=config[\"save_dir\"])"
      ],
      "execution_count": 10,
      "outputs": [
        {
          "output_type": "stream",
          "text": [
            "==> 📂 Created experiments/1556180308_b47ddee2-6732-11e9-ba25-0242ac1c0002\n"
          ],
          "name": "stdout"
        }
      ]
    },
    {
      "metadata": {
        "id": "JZbd2RQjvKsD",
        "colab_type": "code",
        "outputId": "1f10fd02-fe2e-4630-de41-d230e9b41c36",
        "colab": {
          "base_uri": "https://localhost:8080/",
          "height": 71
        }
      },
      "cell_type": "code",
      "source": [
        "# Expand file paths to store components later\n",
        "config[\"vectorizer_file\"] = os.path.join(config[\"save_dir\"], config[\"vectorizer_file\"])\n",
        "config[\"model_file\"] = os.path.join(config[\"save_dir\"], config[\"model_file\"])\n",
        "print (\"Expanded filepaths: \")\n",
        "print (\"{}\".format(config[\"vectorizer_file\"]))\n",
        "print (\"{}\".format(config[\"model_file\"]))"
      ],
      "execution_count": 11,
      "outputs": [
        {
          "output_type": "stream",
          "text": [
            "Expanded filepaths: \n",
            "experiments/1556180308_b47ddee2-6732-11e9-ba25-0242ac1c0002/vectorizer.json\n",
            "experiments/1556180308_b47ddee2-6732-11e9-ba25-0242ac1c0002/model.pth\n"
          ],
          "name": "stdout"
        }
      ]
    },
    {
      "metadata": {
        "id": "TdlTftnCvKph",
        "colab_type": "code",
        "colab": {}
      },
      "cell_type": "code",
      "source": [
        "# Save config\n",
        "config_fp = os.path.join(config[\"save_dir\"], \"config.json\")\n",
        "with open(config_fp, \"w\") as fp:\n",
        "    json.dump(config, fp)"
      ],
      "execution_count": 0,
      "outputs": []
    },
    {
      "metadata": {
        "id": "qa0EQ8VRvKl0",
        "colab_type": "code",
        "outputId": "6777d37a-3d08-413e-8ea1-fd78ee768795",
        "colab": {
          "base_uri": "https://localhost:8080/",
          "height": 35
        }
      },
      "cell_type": "code",
      "source": [
        "# Check CUDA\n",
        "config[\"device\"] = check_cuda(cuda=config[\"cuda\"])"
      ],
      "execution_count": 13,
      "outputs": [
        {
          "output_type": "stream",
          "text": [
            "==> 💻 Device: cuda\n"
          ],
          "name": "stdout"
        }
      ]
    },
    {
      "metadata": {
        "id": "ZVtnfTpvwi4i",
        "colab_type": "text"
      },
      "cell_type": "markdown",
      "source": [
        "# Load data"
      ]
    },
    {
      "metadata": {
        "id": "z0qPZ5tRws38",
        "colab_type": "text"
      },
      "cell_type": "markdown",
      "source": [
        "We are going to get CIFAR10 data which contains images from ten unique classes. Each image has length 32, width 32 and three color channels (RGB). We are going to save these images in a directory. Each image will have its own directory (name will be the class)."
      ]
    },
    {
      "metadata": {
        "id": "FrfCnsZS2io4",
        "colab_type": "code",
        "colab": {}
      },
      "cell_type": "code",
      "source": [
        "import matplotlib.pyplot as plt\n",
        "import pandas as pd\n",
        "from PIL import Image\n",
        "import tensorflow as tf"
      ],
      "execution_count": 0,
      "outputs": []
    },
    {
      "metadata": {
        "id": "muXdsetFx4QW",
        "colab_type": "text"
      },
      "cell_type": "markdown",
      "source": [
        "### Components"
      ]
    },
    {
      "metadata": {
        "id": "QYiuXPMax4YJ",
        "colab_type": "code",
        "colab": {}
      },
      "cell_type": "code",
      "source": [
        "def get_data():\n",
        "    \"\"\"Get CIFAR10 data.\n",
        "    \"\"\"\n",
        "    (x_train, y_train), (x_test, y_test) = tf.keras.datasets.cifar10.load_data()\n",
        "    X = np.vstack([x_train, x_test])\n",
        "    y = np.vstack([y_train, y_test]).squeeze(1)\n",
        "    print (\"==> 🌊 Downloading Cifar10 data using TensorFlow.\")\n",
        "    return X, y"
      ],
      "execution_count": 0,
      "outputs": []
    },
    {
      "metadata": {
        "id": "MD01k_gx1pxN",
        "colab_type": "code",
        "colab": {}
      },
      "cell_type": "code",
      "source": [
        "def create_class_dirs(data_dir, classes):\n",
        "    \"\"\"Create class directories.\n",
        "    \"\"\"\n",
        "    create_dirs(dirpath=data_dir)\n",
        "    for _class in classes.values():\n",
        "        classpath = os.path.join(data_dir, _class)\n",
        "        create_dirs(dirpath=classpath)"
      ],
      "execution_count": 0,
      "outputs": []
    },
    {
      "metadata": {
        "id": "O4bthBeo281C",
        "colab_type": "code",
        "colab": {}
      },
      "cell_type": "code",
      "source": [
        "def visualize_samples(data_dir, classes):\n",
        "    \"\"\"Visualize sample images for\n",
        "    each class.\n",
        "    \"\"\"\n",
        "    # Visualize some samples\n",
        "    num_samples = len(classes)\n",
        "    for i, _class in enumerate(classes.values()):  \n",
        "        for file in os.listdir(os.path.join(data_dir, _class)):\n",
        "            if file.endswith((\".png\", \".jpg\", \".jpeg\")):\n",
        "                plt.subplot(1, num_samples, i+1)\n",
        "                plt.title(\"{0}\".format(_class))\n",
        "                img = Image.open(os.path.join(data_dir, _class, file))\n",
        "                plt.imshow(img)\n",
        "                plt.axis(\"off\")\n",
        "                break"
      ],
      "execution_count": 0,
      "outputs": []
    },
    {
      "metadata": {
        "id": "1sxd32MU4f8-",
        "colab_type": "code",
        "colab": {}
      },
      "cell_type": "code",
      "source": [
        "def img_to_array(fp):\n",
        "    \"\"\"Conver image file to NumPy array.\n",
        "    \"\"\"\n",
        "    img = Image.open(fp)\n",
        "    array = np.asarray(img, dtype=\"float32\")\n",
        "    return array"
      ],
      "execution_count": 0,
      "outputs": []
    },
    {
      "metadata": {
        "id": "Er9BP9Ch4nKc",
        "colab_type": "code",
        "colab": {}
      },
      "cell_type": "code",
      "source": [
        "def load_data(data_dir, classes):\n",
        "    \"\"\"Load data into Pandas DataFrame.\n",
        "    \"\"\"\n",
        "    # Load data from files\n",
        "    data = []\n",
        "    for i, _class in enumerate(classes.values()):  \n",
        "        for file in os.listdir(os.path.join(data_dir, _class)):\n",
        "            if file.endswith((\".png\", \".jpg\", \".jpeg\")):\n",
        "                full_filepath = os.path.join(data_dir, _class, file)\n",
        "                data.append({\"image\": img_to_array(full_filepath), \"category\": _class})\n",
        "                \n",
        "    # Load to Pandas DataFrame\n",
        "    df = pd.DataFrame(data)\n",
        "    print (\"==> 🖼️ Image dimensions: {0}\".format(df.image[0].shape))\n",
        "    print (\"==> 🍣 Raw data:\")\n",
        "    print (df.head())\n",
        "    return df"
      ],
      "execution_count": 0,
      "outputs": []
    },
    {
      "metadata": {
        "id": "FPDqxy_ax4wI",
        "colab_type": "text"
      },
      "cell_type": "markdown",
      "source": [
        "### Operations"
      ]
    },
    {
      "metadata": {
        "id": "KfbhWM7PvKdY",
        "colab_type": "code",
        "outputId": "ac805581-a2b6-4a87-a9a2-1cc1642321fd",
        "colab": {
          "base_uri": "https://localhost:8080/",
          "height": 107
        }
      },
      "cell_type": "code",
      "source": [
        "# Get CIFAR10 data\n",
        "X, y = get_data()\n",
        "print (\"X:\", X.shape)\n",
        "print (\"y:\", y.shape)"
      ],
      "execution_count": 20,
      "outputs": [
        {
          "output_type": "stream",
          "text": [
            "Downloading data from https://www.cs.toronto.edu/~kriz/cifar-10-python.tar.gz\n",
            "170500096/170498071 [==============================] - 12s 0us/step\n",
            "==> 🌊 Downloading Cifar10 data using TensorFlow.\n",
            "X: (60000, 32, 32, 3)\n",
            "y: (60000,)\n"
          ],
          "name": "stdout"
        }
      ]
    },
    {
      "metadata": {
        "id": "UqEXvEZkvKaV",
        "colab_type": "code",
        "colab": {}
      },
      "cell_type": "code",
      "source": [
        "# Classes\n",
        "classes = {0: 'plane', 1: 'car', 2: 'bird', 3: 'cat', 4: 'deer', 5: 'dog', \n",
        "           6: 'frog', 7: 'horse', 8: 'ship', 9: 'truck'}"
      ],
      "execution_count": 0,
      "outputs": []
    },
    {
      "metadata": {
        "id": "Ohn-yT0KvKYW",
        "colab_type": "code",
        "outputId": "95bc026f-4d48-4afd-8c81-e8cd664cf558",
        "colab": {
          "base_uri": "https://localhost:8080/",
          "height": 215
        }
      },
      "cell_type": "code",
      "source": [
        "# Create image directories\n",
        "create_class_dirs(data_dir=config[\"data_dir\"], classes=classes)"
      ],
      "execution_count": 22,
      "outputs": [
        {
          "output_type": "stream",
          "text": [
            "==> 📂 Created cifar10\n",
            "==> 📂 Created cifar10/plane\n",
            "==> 📂 Created cifar10/car\n",
            "==> 📂 Created cifar10/bird\n",
            "==> 📂 Created cifar10/cat\n",
            "==> 📂 Created cifar10/deer\n",
            "==> 📂 Created cifar10/dog\n",
            "==> 📂 Created cifar10/frog\n",
            "==> 📂 Created cifar10/horse\n",
            "==> 📂 Created cifar10/ship\n",
            "==> 📂 Created cifar10/truck\n"
          ],
          "name": "stdout"
        }
      ]
    },
    {
      "metadata": {
        "id": "OMsgEBXwvKVN",
        "colab_type": "code",
        "colab": {}
      },
      "cell_type": "code",
      "source": [
        "# Save images for each class\n",
        "for i, (image, label) in enumerate(zip(X, y)):\n",
        "    _class = classes[label]\n",
        "    im = Image.fromarray(image)\n",
        "    im.save(os.path.join(config[\"data_dir\"], _class, \"{0:02d}.png\".format(i)))"
      ],
      "execution_count": 0,
      "outputs": []
    },
    {
      "metadata": {
        "id": "o8vVS8advKTE",
        "colab_type": "code",
        "outputId": "97db9f77-0cd9-4d61-95be-00f72fe78787",
        "colab": {
          "base_uri": "https://localhost:8080/",
          "height": 92
        }
      },
      "cell_type": "code",
      "source": [
        "# Visualize each class\n",
        "visualize_samples(data_dir=config[\"data_dir\"], classes=classes)"
      ],
      "execution_count": 24,
      "outputs": [
        {
          "output_type": "display_data",
          "data": {
            "image/png": "[encoded data removed]",
            "text/plain": [
              "<Figure size 432x288 with 10 Axes>"
            ]
          },
          "metadata": {
            "tags": []
          }
        }
      ]
    },
    {
      "metadata": {
        "id": "9oPqQShhvKMe",
        "colab_type": "code",
        "outputId": "4893da89-61e5-487b-93e8-9c85b56d7aac",
        "colab": {
          "base_uri": "https://localhost:8080/",
          "height": 161
        }
      },
      "cell_type": "code",
      "source": [
        "# Load data into DataFrame\n",
        "df = load_data(data_dir=config[\"data_dir\"], classes=classes)"
      ],
      "execution_count": 25,
      "outputs": [
        {
          "output_type": "stream",
          "text": [
            "==> 🖼️ Image dimensions: (32, 32, 3)\n",
            "==> 🍣 Raw data:\n",
            "  category                                              image\n",
            "0    plane  [[[194.0, 203.0, 214.0], [192.0, 200.0, 211.0]...\n",
            "1    plane  [[[114.0, 178.0, 214.0], [113.0, 176.0, 211.0]...\n",
            "2    plane  [[[229.0, 237.0, 241.0], [225.0, 231.0, 237.0]...\n",
            "3    plane  [[[51.0, 80.0, 23.0], [56.0, 81.0, 31.0], [62....\n",
            "4    plane  [[[121.0, 135.0, 136.0], [124.0, 138.0, 139.0]...\n"
          ],
          "name": "stdout"
        }
      ]
    },
    {
      "metadata": {
        "id": "JNSAGHsI6JH2",
        "colab_type": "text"
      },
      "cell_type": "markdown",
      "source": [
        "# Split data"
      ]
    },
    {
      "metadata": {
        "id": "1AIMrapz6Pzy",
        "colab_type": "text"
      },
      "cell_type": "markdown",
      "source": [
        "Split the data into train, validation and test sets where each split has similar class distributions."
      ]
    },
    {
      "metadata": {
        "id": "WKeBROMj6WQL",
        "colab_type": "code",
        "colab": {}
      },
      "cell_type": "code",
      "source": [
        "import collections"
      ],
      "execution_count": 0,
      "outputs": []
    },
    {
      "metadata": {
        "id": "p2SLUqQp6S4-",
        "colab_type": "text"
      },
      "cell_type": "markdown",
      "source": [
        "### Components"
      ]
    },
    {
      "metadata": {
        "id": "0ySue6PBvKJ1",
        "colab_type": "code",
        "colab": {}
      },
      "cell_type": "code",
      "source": [
        "def split_data(df, shuffle, train_size, val_size, test_size):\n",
        "    \"\"\"Split the data into train/val/test splits.\n",
        "    \"\"\"\n",
        "    # Split by category\n",
        "    by_category = collections.defaultdict(list)\n",
        "    for _, row in df.iterrows():\n",
        "        by_category[row.category].append(row.to_dict())\n",
        "    print (\"\\n==> 🛍️ Categories:\")\n",
        "    for category in by_category:\n",
        "        print (\"{0}: {1}\".format(category, len(by_category[category])))\n",
        "\n",
        "    # Create split data\n",
        "    final_list = []\n",
        "    for _, item_list in sorted(by_category.items()):\n",
        "        if shuffle:\n",
        "            np.random.shuffle(item_list)\n",
        "        n = len(item_list)\n",
        "        n_train = int(train_size*n)\n",
        "        n_val = int(val_size*n)\n",
        "        n_test = int(test_size*n)\n",
        "\n",
        "      # Give data point a split attribute\n",
        "        for item in item_list[:n_train]:\n",
        "            item['split'] = 'train'\n",
        "        for item in item_list[n_train:n_train+n_val]:\n",
        "            item['split'] = 'val'\n",
        "        for item in item_list[n_train+n_val:]:\n",
        "            item['split'] = 'test'\n",
        "\n",
        "        # Add to final list\n",
        "        final_list.extend(item_list)\n",
        "\n",
        "    # df with split datasets\n",
        "    split_df = pd.DataFrame(final_list)\n",
        "    print (\"\\n==> 🖖 Splits:\")\n",
        "    print (split_df[\"split\"].value_counts())\n",
        "\n",
        "    return split_df"
      ],
      "execution_count": 0,
      "outputs": []
    },
    {
      "metadata": {
        "id": "GcunpUPK6UlF",
        "colab_type": "text"
      },
      "cell_type": "markdown",
      "source": [
        "### Operations"
      ]
    },
    {
      "metadata": {
        "id": "yzznm188vKHN",
        "colab_type": "code",
        "outputId": "eee268e0-193d-4a12-e75e-f6dd031543bb",
        "colab": {
          "base_uri": "https://localhost:8080/",
          "height": 341
        }
      },
      "cell_type": "code",
      "source": [
        "# Split data\n",
        "split_df = split_data(\n",
        "    df=df, shuffle=config[\"shuffle\"],\n",
        "    train_size=config[\"train_size\"],\n",
        "    val_size=config[\"val_size\"],\n",
        "    test_size=config[\"test_size\"])"
      ],
      "execution_count": 28,
      "outputs": [
        {
          "output_type": "stream",
          "text": [
            "\n",
            "==> 🛍️ Categories:\n",
            "plane: 6000\n",
            "car: 6000\n",
            "bird: 6000\n",
            "cat: 6000\n",
            "deer: 6000\n",
            "dog: 6000\n",
            "frog: 6000\n",
            "horse: 6000\n",
            "ship: 6000\n",
            "truck: 6000\n",
            "\n",
            "==> 🖖 Splits:\n",
            "train    42000\n",
            "val       9000\n",
            "test      9000\n",
            "Name: split, dtype: int64\n"
          ],
          "name": "stdout"
        }
      ]
    },
    {
      "metadata": {
        "id": "DlwbzIsL64yz",
        "colab_type": "text"
      },
      "cell_type": "markdown",
      "source": [
        "# Vocabulary"
      ]
    },
    {
      "metadata": {
        "id": "daGiSGEn7JZL",
        "colab_type": "text"
      },
      "cell_type": "markdown",
      "source": [
        "Create vocabularies for the image classes."
      ]
    },
    {
      "metadata": {
        "id": "cOH5OuG07Ohv",
        "colab_type": "text"
      },
      "cell_type": "markdown",
      "source": [
        "### Components"
      ]
    },
    {
      "metadata": {
        "id": "hJzh14kmvKE6",
        "colab_type": "code",
        "colab": {}
      },
      "cell_type": "code",
      "source": [
        "class Vocabulary(object):\n",
        "    def __init__(self, token_to_idx=None, add_unk=True, unk_token=\"<UNK>\"):\n",
        "\n",
        "        # Token to index\n",
        "        if token_to_idx is None:\n",
        "            token_to_idx = {}\n",
        "        self.token_to_idx = token_to_idx\n",
        "\n",
        "        # Index to token\n",
        "        self.idx_to_token = {idx: token \\\n",
        "                             for token, idx in self.token_to_idx.items()}\n",
        "        \n",
        "        # Add unknown token\n",
        "        self.add_unk = add_unk\n",
        "        self.unk_token = unk_token\n",
        "        if self.add_unk:\n",
        "            self.unk_index = self.add_token(self.unk_token)\n",
        "\n",
        "    def to_serializable(self):\n",
        "        return {'token_to_idx': self.token_to_idx,\n",
        "                'add_unk': self.add_unk, 'unk_token': self.unk_token}\n",
        "\n",
        "    @classmethod\n",
        "    def from_serializable(cls, contents):\n",
        "        return cls(**contents)\n",
        "\n",
        "    def add_token(self, token):\n",
        "        if token in self.token_to_idx:\n",
        "            index = self.token_to_idx[token]\n",
        "        else:\n",
        "            index = len(self.token_to_idx)\n",
        "            self.token_to_idx[token] = index\n",
        "            self.idx_to_token[index] = token\n",
        "        return index\n",
        "\n",
        "    def add_tokens(self, tokens):\n",
        "        return [self.add_token[token] for token in tokens]\n",
        "\n",
        "    def lookup_token(self, token):\n",
        "        if self.add_unk:\n",
        "            index = self.token_to_idx.get(token, self.unk_index)\n",
        "        else:\n",
        "            index =  self.token_to_idx[token]\n",
        "        return index\n",
        "\n",
        "    def lookup_index(self, index):\n",
        "        if index not in self.idx_to_token:\n",
        "            raise KeyError(\"the index (%d) is not in the Vocabulary\" % index)\n",
        "        return self.idx_to_token[index]\n",
        "\n",
        "    def __str__(self):\n",
        "        return \"<Vocabulary(size=%d)>\" % len(self)\n",
        "\n",
        "    def __len__(self):\n",
        "        return len(self.token_to_idx)"
      ],
      "execution_count": 0,
      "outputs": []
    },
    {
      "metadata": {
        "id": "W60Z1cda7Pv2",
        "colab_type": "text"
      },
      "cell_type": "markdown",
      "source": [
        "### Operations"
      ]
    },
    {
      "metadata": {
        "id": "NcufVLErvKCt",
        "colab_type": "code",
        "outputId": "ac963682-c20e-4dad-91d4-2a0166b2f5a6",
        "colab": {
          "base_uri": "https://localhost:8080/",
          "height": 89
        }
      },
      "cell_type": "code",
      "source": [
        "# Vocabulary instance\n",
        "category_vocab = Vocabulary(add_unk=False)\n",
        "for index, row in df.iterrows():\n",
        "    category_vocab.add_token(row.category)\n",
        "print (category_vocab) # __str__\n",
        "print (len(category_vocab)) # __len__\n",
        "index = category_vocab.lookup_token(\"bird\")\n",
        "print (index)\n",
        "print (category_vocab.lookup_index(index))"
      ],
      "execution_count": 30,
      "outputs": [
        {
          "output_type": "stream",
          "text": [
            "<Vocabulary(size=10)>\n",
            "10\n",
            "2\n",
            "bird\n"
          ],
          "name": "stdout"
        }
      ]
    },
    {
      "metadata": {
        "id": "ubECmrcqZIHI",
        "colab_type": "text"
      },
      "cell_type": "markdown",
      "source": [
        "# Sequence vocbulary"
      ]
    },
    {
      "metadata": {
        "id": "mUee35g37m8k",
        "colab_type": "text"
      },
      "cell_type": "markdown",
      "source": [
        "We will also create a vocabulary object for the actual images. It will store the mean and standard deviations for eahc image channel (RGB) which we will use later on for normalizing our images with the Vectorizer."
      ]
    },
    {
      "metadata": {
        "id": "37pGFTBiZIbm",
        "colab_type": "code",
        "colab": {}
      },
      "cell_type": "code",
      "source": [
        "from collections import Counter\n",
        "import string"
      ],
      "execution_count": 0,
      "outputs": []
    },
    {
      "metadata": {
        "id": "gbIKSQ5a7jsG",
        "colab_type": "text"
      },
      "cell_type": "markdown",
      "source": [
        "### Components"
      ]
    },
    {
      "metadata": {
        "id": "YvWL2JcgZPaw",
        "colab_type": "code",
        "colab": {}
      },
      "cell_type": "code",
      "source": [
        "class SequenceVocabulary(Vocabulary):\n",
        "    def __init__(self, train_means, train_stds):\n",
        "        \n",
        "        self.train_means = train_means\n",
        "        self.train_stds = train_stds\n",
        "        \n",
        "    def to_serializable(self):\n",
        "        contents = {'train_means': self.train_means,\n",
        "                    'train_stds': self.train_stds}\n",
        "        return contents\n",
        "    \n",
        "    @classmethod\n",
        "    def from_dataframe(cls, df):\n",
        "        train_data = df[df.split == \"train\"]\n",
        "        means = {0:[], 1:[], 2:[]}\n",
        "        stds = {0:[], 1:[], 2:[]}\n",
        "        for image in train_data.image:\n",
        "            for dim in range(3):\n",
        "                means[dim].append(np.mean(image[:, :, dim]))\n",
        "                stds[dim].append(np.std(image[:, :, dim]))\n",
        "        train_means = np.array((np.mean(means[0]), np.mean(means[1]), \n",
        "                                np.mean(means[2])), dtype=\"float64\").tolist()\n",
        "        train_stds = np.array((np.mean(stds[0]), np.mean(stds[1]), \n",
        "                               np.mean(stds[2])), dtype=\"float64\").tolist()\n",
        "            \n",
        "        return cls(train_means, train_stds)\n",
        "        \n",
        "    def __str__(self):\n",
        "        return \"<SequenceVocabulary(train_means: {0}, train_stds: {1}>\".format(\n",
        "            self.train_means, self.train_stds)"
      ],
      "execution_count": 0,
      "outputs": []
    },
    {
      "metadata": {
        "id": "osFf9EGY71tT",
        "colab_type": "text"
      },
      "cell_type": "markdown",
      "source": [
        "### Operations"
      ]
    },
    {
      "metadata": {
        "id": "-ODlh2wcahqH",
        "colab_type": "code",
        "outputId": "7a3dcc84-9c38-4501-8d49-4d69e1ba03d7",
        "colab": {
          "base_uri": "https://localhost:8080/",
          "height": 55
        }
      },
      "cell_type": "code",
      "source": [
        "# Create SequenceVocabulary instance\n",
        "image_vocab = SequenceVocabulary.from_dataframe(split_df)\n",
        "print (image_vocab) # __str__"
      ],
      "execution_count": 33,
      "outputs": [
        {
          "output_type": "stream",
          "text": [
            "<SequenceVocabulary(train_means: [125.29450225830078, 123.04263305664062, 114.05098724365234], train_stds: [51.52751922607422, 50.808067321777344, 51.19036865234375]>\n"
          ],
          "name": "stdout"
        }
      ]
    },
    {
      "metadata": {
        "id": "lUZKa0c9YD0V",
        "colab_type": "text"
      },
      "cell_type": "markdown",
      "source": [
        "# Vectorizer"
      ]
    },
    {
      "metadata": {
        "id": "-vlDb26u8BEy",
        "colab_type": "text"
      },
      "cell_type": "markdown",
      "source": [
        "The vectorizer will normalize our images using the vocabulary."
      ]
    },
    {
      "metadata": {
        "id": "DyfX-utj8JTz",
        "colab_type": "text"
      },
      "cell_type": "markdown",
      "source": [
        "### Components"
      ]
    },
    {
      "metadata": {
        "id": "RyxHZLTFX5VC",
        "colab_type": "code",
        "colab": {}
      },
      "cell_type": "code",
      "source": [
        "class ImageVectorizer(object):\n",
        "    def __init__(self, image_vocab, category_vocab):\n",
        "        self.image_vocab = image_vocab\n",
        "        self.category_vocab = category_vocab\n",
        "\n",
        "    def vectorize(self, image):\n",
        "        # Avoid modifying the actual df\n",
        "        image = np.copy(image)\n",
        "        \n",
        "        # Normalize\n",
        "        for dim in range(3):\n",
        "            mean = self.image_vocab.train_means[dim]\n",
        "            std = self.image_vocab.train_stds[dim]\n",
        "            image[:, :, dim] = ((image[:, :, dim] - mean) / std)\n",
        "            \n",
        "        # Reshape from (32, 32, 3) to (3, 32, 32)\n",
        "        image = np.swapaxes(image, 0, 2)\n",
        "        image = np.swapaxes(image, 1, 2)\n",
        "                \n",
        "        return image\n",
        "    \n",
        "    @classmethod\n",
        "    def from_dataframe(cls, df):\n",
        "        # Create vocabularies\n",
        "        image_vocab = SequenceVocabulary.from_dataframe(df)\n",
        "        category_vocab = Vocabulary(add_unk=False)   \n",
        "        for category in sorted(set(df.category)):\n",
        "            category_vocab.add_token(category)\n",
        "        return cls(image_vocab, category_vocab)\n",
        "\n",
        "    @classmethod\n",
        "    def from_serializable(cls, contents):\n",
        "        image_vocab = SequenceVocabulary.from_serializable(contents['image_vocab'])\n",
        "        category_vocab = Vocabulary.from_serializable(contents['category_vocab'])\n",
        "        return cls(image_vocab=image_vocab, \n",
        "                   category_vocab=category_vocab)\n",
        "    \n",
        "    def to_serializable(self):\n",
        "        return {'image_vocab': self.image_vocab.to_serializable(),\n",
        "                'category_vocab': self.category_vocab.to_serializable()}"
      ],
      "execution_count": 0,
      "outputs": []
    },
    {
      "metadata": {
        "id": "kTxCnjAb8Kzn",
        "colab_type": "text"
      },
      "cell_type": "markdown",
      "source": [
        "### Operations"
      ]
    },
    {
      "metadata": {
        "id": "yXWIhtFUiDUe",
        "colab_type": "code",
        "outputId": "7b38bf8a-940f-420e-dfca-e9236bf87299",
        "colab": {
          "base_uri": "https://localhost:8080/",
          "height": 109
        }
      },
      "cell_type": "code",
      "source": [
        "# Vectorizer instance\n",
        "vectorizer = ImageVectorizer.from_dataframe(split_df)\n",
        "print (vectorizer.image_vocab)\n",
        "print (vectorizer.category_vocab)\n",
        "print (vectorizer.category_vocab.token_to_idx)\n",
        "image_vector = vectorizer.vectorize(split_df.iloc[0].image)\n",
        "print (image_vector.shape)"
      ],
      "execution_count": 35,
      "outputs": [
        {
          "output_type": "stream",
          "text": [
            "<SequenceVocabulary(train_means: [125.29450225830078, 123.04263305664062, 114.05098724365234], train_stds: [51.52751922607422, 50.808067321777344, 51.19036865234375]>\n",
            "<Vocabulary(size=10)>\n",
            "{'bird': 0, 'car': 1, 'cat': 2, 'deer': 3, 'dog': 4, 'frog': 5, 'horse': 6, 'plane': 7, 'ship': 8, 'truck': 9}\n",
            "(3, 32, 32)\n"
          ],
          "name": "stdout"
        }
      ]
    },
    {
      "metadata": {
        "id": "Xm7s9RPThF3c",
        "colab_type": "text"
      },
      "cell_type": "markdown",
      "source": [
        "# Dataset"
      ]
    },
    {
      "metadata": {
        "id": "22ptC-NZ9Ls1",
        "colab_type": "text"
      },
      "cell_type": "markdown",
      "source": [
        "The Dataset will create vectorized data from the data."
      ]
    },
    {
      "metadata": {
        "id": "2mL4eEdNX5c1",
        "colab_type": "code",
        "colab": {}
      },
      "cell_type": "code",
      "source": [
        "import random\n",
        "from torch.utils.data import Dataset, DataLoader"
      ],
      "execution_count": 0,
      "outputs": []
    },
    {
      "metadata": {
        "id": "TtnGYqxk9Hxc",
        "colab_type": "text"
      },
      "cell_type": "markdown",
      "source": [
        "### Components"
      ]
    },
    {
      "metadata": {
        "id": "Dzegh16nX5fY",
        "colab_type": "code",
        "colab": {}
      },
      "cell_type": "code",
      "source": [
        "class ImageDataset(Dataset):\n",
        "    def __init__(self, df, vectorizer, infer=False):\n",
        "        self.df = df\n",
        "        self.vectorizer = vectorizer\n",
        "        \n",
        "        # Data splits\n",
        "        if not infer:\n",
        "            self.train_df = self.df[self.df.split=='train']\n",
        "            self.train_size = len(self.train_df)\n",
        "            self.val_df = self.df[self.df.split=='val']\n",
        "            self.val_size = len(self.val_df)\n",
        "            self.test_df = self.df[self.df.split=='test']\n",
        "            self.test_size = len(self.test_df)\n",
        "            self.lookup_dict = {'train': (self.train_df, self.train_size), \n",
        "                                'val': (self.val_df, self.val_size),\n",
        "                                'test': (self.test_df, self.test_size)}\n",
        "            self.set_split('train')\n",
        "\n",
        "            # Class weights (for imbalances)\n",
        "            class_counts = df.category.value_counts().to_dict()\n",
        "            def sort_key(item):\n",
        "                return self.vectorizer.category_vocab.lookup_token(item[0])\n",
        "            sorted_counts = sorted(class_counts.items(), key=sort_key)\n",
        "            frequencies = [count for _, count in sorted_counts]\n",
        "            self.class_weights = 1.0 / torch.tensor(frequencies, dtype=torch.float32)\n",
        "        elif infer:\n",
        "            self.infer_df = self.df[self.df.split==\"infer\"]\n",
        "            self.infer_size = len(self.infer_df)\n",
        "            self.lookup_dict = {'infer': (self.infer_df, self.infer_size)}\n",
        "            self.set_split('infer')\n",
        "\n",
        "    @classmethod\n",
        "    def load_dataset_and_make_vectorizer(cls, df):\n",
        "        train_df = df[df.split=='train']\n",
        "        return cls(df, ImageVectorizer.from_dataframe(train_df))\n",
        "\n",
        "    @classmethod\n",
        "    def load_dataset_and_load_vectorizer(cls, df, vectorizer_filepath):\n",
        "        vectorizer = cls.load_vectorizer_only(vectorizer_filepath)\n",
        "        return cls(df, vectorizer)\n",
        "\n",
        "    def load_vectorizer_only(vectorizer_filepath):\n",
        "        with open(vectorizer_filepath) as fp:\n",
        "            return ImageVectorizer.from_serializable(json.load(fp))\n",
        "\n",
        "    def save_vectorizer(self, vectorizer_filepath):\n",
        "        with open(vectorizer_filepath, \"w\") as fp:\n",
        "            json.dump(self.vectorizer.to_serializable(), fp)\n",
        "\n",
        "    def set_split(self, split=\"train\"):\n",
        "        self.target_split = split\n",
        "        self.target_df, self.target_size = self.lookup_dict[split]\n",
        "\n",
        "    def __str__(self):\n",
        "        return \"<Dataset(split={0}, size={1})\".format(\n",
        "            self.target_split, self.target_size)\n",
        "\n",
        "    def __len__(self):\n",
        "        return self.target_size\n",
        "\n",
        "    def __getitem__(self, index):\n",
        "        row = self.target_df.iloc[index]\n",
        "        image_vector = self.vectorizer.vectorize(row.image)\n",
        "        category_index = self.vectorizer.category_vocab.lookup_token(row.category)\n",
        "        return {'image': image_vector, \n",
        "                'category': category_index}\n",
        "\n",
        "    def get_num_batches(self, batch_size):\n",
        "        return len(self) // batch_size\n",
        "\n",
        "    def generate_batches(self, batch_size, shuffle=True, drop_last=True, device=\"cpu\"):\n",
        "        dataloader = DataLoader(dataset=self, batch_size=batch_size, \n",
        "                                shuffle=shuffle, drop_last=drop_last)\n",
        "        for data_dict in dataloader:\n",
        "            out_data_dict = {}\n",
        "            for name, tensor in data_dict.items():\n",
        "                out_data_dict[name] = data_dict[name].to(device)\n",
        "            yield out_data_dict"
      ],
      "execution_count": 0,
      "outputs": []
    },
    {
      "metadata": {
        "id": "BMZbi-S29VQP",
        "colab_type": "code",
        "colab": {}
      },
      "cell_type": "code",
      "source": [
        "def sample(dataset):\n",
        "    \"\"\"Some sanity checks on the dataset.\n",
        "    \"\"\"\n",
        "    sample_idx = random.randint(0,len(dataset))\n",
        "    sample = dataset[sample_idx]\n",
        "    print (\"\\n==> 🔢 Dataset:\")\n",
        "    print (\"Random sample: {0}\".format(sample))\n",
        "    print (\"Unvectorized category: {0}\".format(\n",
        "        dataset.vectorizer.category_vocab.lookup_index(sample['category'])))"
      ],
      "execution_count": 0,
      "outputs": []
    },
    {
      "metadata": {
        "id": "DZKAha5f9VVG",
        "colab_type": "text"
      },
      "cell_type": "markdown",
      "source": [
        "### Operations"
      ]
    },
    {
      "metadata": {
        "id": "-sW6otUGX5iA",
        "colab_type": "code",
        "outputId": "5daa7fcf-61f6-4d1d-fd1f-abf2baf7ee0f",
        "colab": {
          "base_uri": "https://localhost:8080/",
          "height": 53
        }
      },
      "cell_type": "code",
      "source": [
        "# Load dataset and vectorizer\n",
        "dataset = ImageDataset.load_dataset_and_make_vectorizer(split_df)\n",
        "dataset.save_vectorizer(config[\"vectorizer_file\"])\n",
        "vectorizer = dataset.vectorizer\n",
        "print (dataset.class_weights)"
      ],
      "execution_count": 39,
      "outputs": [
        {
          "output_type": "stream",
          "text": [
            "tensor([0.0002, 0.0002, 0.0002, 0.0002, 0.0002, 0.0002, 0.0002, 0.0002, 0.0002,\n",
            "        0.0002])\n"
          ],
          "name": "stdout"
        }
      ]
    },
    {
      "metadata": {
        "id": "_TKZjOyM9liD",
        "colab_type": "code",
        "colab": {
          "base_uri": "https://localhost:8080/",
          "height": 809
        },
        "outputId": "aeccb6c9-f757-4e3a-ef81-892c83a4d1be"
      },
      "cell_type": "code",
      "source": [
        "# Sample checks\n",
        "sample(dataset=dataset)"
      ],
      "execution_count": 40,
      "outputs": [
        {
          "output_type": "stream",
          "text": [
            "\n",
            "==> 🔢 Dataset:\n",
            "Random sample: {'image': array([[[-1.9658331e+00, -1.2477702e+00,  9.4523275e-01, ...,\n",
            "          9.6463984e-01,  1.3527819e+00,  9.8404694e-01],\n",
            "        [-1.9464260e+00, -1.2671773e+00,  8.8701141e-01, ...,\n",
            "          1.0810825e+00,  1.4110032e+00,  9.2582566e-01],\n",
            "        [-1.9270189e+00, -1.2865844e+00,  8.6760432e-01, ...,\n",
            "          1.1975251e+00,  1.4886317e+00,  9.0641850e-01],\n",
            "        ...,\n",
            "        [-1.2215807e-01,  7.1912989e-02,  2.2716983e-01, ...,\n",
            "          2.6598403e-01, -2.5122542e-02, -3.1622913e-01],\n",
            "        [-2.3860070e-01, -2.5122542e-02,  2.4657694e-01, ...,\n",
            "          3.6301956e-01,  1.1072720e-01, -2.7741492e-01],\n",
            "        [-2.1919359e-01,  1.3691669e-02,  3.2420537e-01, ...,\n",
            "          2.8539115e-01,  1.3691669e-02, -2.5800779e-01]],\n",
            "\n",
            "       [[-1.7918932e+00, -1.3785731e+00, -8.3910016e-04, ...,\n",
            "         -2.0521013e-02,  2.1566196e-01,  1.8842814e-02],\n",
            "        [-1.7328476e+00, -1.3785731e+00, -4.0202927e-02, ...,\n",
            "          7.7888556e-02,  2.7470770e-01,  1.8842814e-02],\n",
            "        [-1.7131656e+00, -1.3785731e+00, -4.0202927e-02, ...,\n",
            "          1.7629813e-01,  3.3375344e-01, -8.3910016e-04],\n",
            "        ...,\n",
            "        [-2.9606780e-01, -9.9248670e-02,  5.8206640e-02, ...,\n",
            "          1.5661621e-01, -9.9248670e-02, -3.9447737e-01],\n",
            "        [-3.9447737e-01, -1.5829441e-01,  5.8206640e-02, ...,\n",
            "          2.5502577e-01,  5.8206640e-02, -3.1574973e-01],\n",
            "        [-3.3543164e-01, -7.9566754e-02,  1.5661621e-01, ...,\n",
            "          1.9598004e-01, -5.9884842e-02, -3.3543164e-01]],\n",
            "\n",
            "       [[-1.2903011e+00, -1.3489058e+00, -1.5637900e+00, ...,\n",
            "         -1.4465804e+00, -1.6809995e+00, -1.6223948e+00],\n",
            "        [-1.1926265e+00, -1.2903011e+00, -1.5637900e+00, ...,\n",
            "         -1.4661154e+00, -1.7200694e+00, -1.6419297e+00],\n",
            "        [-1.0949519e+00, -1.1926265e+00, -1.5247202e+00, ...,\n",
            "         -1.5247202e+00, -1.7396044e+00, -1.6223948e+00],\n",
            "        ...,\n",
            "        [-5.4797393e-01, -3.5262468e-01, -1.9634528e-01, ...,\n",
            "         -7.9135731e-02, -3.9169452e-01, -6.8471837e-01],\n",
            "        [-6.2611365e-01, -4.5029929e-01, -2.1588020e-01, ...,\n",
            "         -2.0530956e-02, -2.3541513e-01, -6.0657871e-01],\n",
            "        [-5.8704376e-01, -3.9169452e-01, -1.3774051e-01, ...,\n",
            "         -1.1820558e-01, -3.5262468e-01, -6.2611365e-01]]], dtype=float32), 'category': 1}\n",
            "Unvectorized category: car\n"
          ],
          "name": "stdout"
        }
      ]
    },
    {
      "metadata": {
        "id": "SjPHp36i3G_i",
        "colab_type": "text"
      },
      "cell_type": "markdown",
      "source": [
        "# Model"
      ]
    },
    {
      "metadata": {
        "id": "KPgY8JDi9_GO",
        "colab_type": "text"
      },
      "cell_type": "markdown",
      "source": [
        "Basic CNN architecture for image classification."
      ]
    },
    {
      "metadata": {
        "id": "bPaf6Dy2X5ko",
        "colab_type": "code",
        "colab": {}
      },
      "cell_type": "code",
      "source": [
        "import torch.nn as nn\n",
        "import torch.nn.functional as F"
      ],
      "execution_count": 0,
      "outputs": []
    },
    {
      "metadata": {
        "id": "OdZfoEKc-BBm",
        "colab_type": "text"
      },
      "cell_type": "markdown",
      "source": [
        "### Components"
      ]
    },
    {
      "metadata": {
        "id": "RKRPzX1nX5nN",
        "colab_type": "code",
        "colab": {}
      },
      "cell_type": "code",
      "source": [
        "class ImageModel(nn.Module):\n",
        "    def __init__(self, num_hidden_units, num_classes, dropout_p):\n",
        "        super(ImageModel, self).__init__()\n",
        "        self.conv1 = nn.Conv2d(3, 10, kernel_size=5) # input_channels:3, output_channels:10 (aka num filters)\n",
        "        self.conv2 = nn.Conv2d(10, 20, kernel_size=5) \n",
        "        self.conv_dropout = nn.Dropout2d(dropout_p)\n",
        "        self.fc1 = nn.Linear(20*5*5, num_hidden_units)\n",
        "        self.dropout = nn.Dropout(dropout_p)\n",
        "        self.fc2 = nn.Linear(num_hidden_units, num_classes)\n",
        "\n",
        "    def forward(self, x, apply_softmax=False):\n",
        "        # Conv pool\n",
        "        z = self.conv1(x) # (N, 10, 28, 28)\n",
        "        z = F.max_pool2d(z, 2) # (N, 10, 14, 14)\n",
        "        z = F.relu(z)\n",
        "        \n",
        "        # Conv pool\n",
        "        z = self.conv2(z) # (N, 20, 10, 10)\n",
        "        z = self.conv_dropout(z) \n",
        "        z = F.max_pool2d(z, 2) # (N, 20, 5, 5)\n",
        "        z = F.relu(z)\n",
        "        \n",
        "        # Flatten\n",
        "        z = z.view(-1, 20*5*5)\n",
        "        \n",
        "        # FC\n",
        "        z = F.relu(self.fc1(z))\n",
        "        z = self.dropout(z)\n",
        "        y_pred = self.fc2(z)\n",
        "        \n",
        "        if apply_softmax:\n",
        "            y_pred = F.softmax(y_pred, dim=1)\n",
        "        return y_pred "
      ],
      "execution_count": 0,
      "outputs": []
    },
    {
      "metadata": {
        "id": "lMKxHPxs-JlA",
        "colab_type": "code",
        "colab": {}
      },
      "cell_type": "code",
      "source": [
        "def initialize_model(config, vectorizer):\n",
        "    \"\"\"Initialize the model.\n",
        "    \"\"\"\n",
        "    print (\"\\n==> 🚀 Initializing model:\")\n",
        "    model = ImageModel(\n",
        "       num_hidden_units=config[\"fc\"][\"hidden_dim\"], \n",
        "       num_classes=len(vectorizer.category_vocab),\n",
        "       dropout_p=config[\"fc\"][\"dropout_p\"])\n",
        "    print (model.named_modules)\n",
        "    return model"
      ],
      "execution_count": 0,
      "outputs": []
    },
    {
      "metadata": {
        "id": "wSZOM8Xw-I8O",
        "colab_type": "text"
      },
      "cell_type": "markdown",
      "source": [
        "### Operations"
      ]
    },
    {
      "metadata": {
        "id": "z5C6DfY3-QXr",
        "colab_type": "code",
        "outputId": "8c5e7275-59af-4f6f-d462-79c0d4b184e2",
        "colab": {
          "base_uri": "https://localhost:8080/",
          "height": 197
        }
      },
      "cell_type": "code",
      "source": [
        "# Initializing model\n",
        "model = initialize_model(config=config, vectorizer=vectorizer)"
      ],
      "execution_count": 44,
      "outputs": [
        {
          "output_type": "stream",
          "text": [
            "\n",
            "==> 🚀 Initializing model:\n",
            "<bound method Module.named_modules of ImageModel(\n",
            "  (conv1): Conv2d(3, 10, kernel_size=(5, 5), stride=(1, 1))\n",
            "  (conv2): Conv2d(10, 20, kernel_size=(5, 5), stride=(1, 1))\n",
            "  (conv_dropout): Dropout2d(p=0.1)\n",
            "  (fc1): Linear(in_features=500, out_features=100, bias=True)\n",
            "  (dropout): Dropout(p=0.1)\n",
            "  (fc2): Linear(in_features=100, out_features=10, bias=True)\n",
            ")>\n"
          ],
          "name": "stdout"
        }
      ]
    },
    {
      "metadata": {
        "id": "jAiIbY9TBGef",
        "colab_type": "text"
      },
      "cell_type": "markdown",
      "source": [
        "# Training"
      ]
    },
    {
      "metadata": {
        "id": "w5yLzB4XG5aw",
        "colab_type": "text"
      },
      "cell_type": "markdown",
      "source": [
        "Training operations for image classification."
      ]
    },
    {
      "metadata": {
        "id": "bnMvjt9JX5p4",
        "colab_type": "code",
        "colab": {}
      },
      "cell_type": "code",
      "source": [
        "import torch.optim as optim"
      ],
      "execution_count": 0,
      "outputs": []
    },
    {
      "metadata": {
        "id": "kCkVhv54G6Ui",
        "colab_type": "text"
      },
      "cell_type": "markdown",
      "source": [
        "### Components"
      ]
    },
    {
      "metadata": {
        "id": "z8dxixyVHAi8",
        "colab_type": "code",
        "colab": {}
      },
      "cell_type": "code",
      "source": [
        "def compute_accuracy(y_pred, y_target):\n",
        "    _, y_pred_indices = y_pred.max(dim=1)\n",
        "    n_correct = torch.eq(y_pred_indices, y_target).sum().item()\n",
        "    return n_correct / len(y_pred_indices) * 100"
      ],
      "execution_count": 0,
      "outputs": []
    },
    {
      "metadata": {
        "id": "FhDr6F8-HAyf",
        "colab_type": "code",
        "colab": {}
      },
      "cell_type": "code",
      "source": [
        "def update_train_state(model, train_state):\n",
        "    \"\"\" Update train state during training.\n",
        "    \"\"\"\n",
        "    # Verbose\n",
        "    print (\"[EPOCH]: {0} | [LR]: {1} | [TRAIN LOSS]: {2:.2f} | [TRAIN ACC]: {3:.1f}% | [VAL LOSS]: {4:.2f} | [VAL ACC]: {5:.1f}%\".format(\n",
        "      train_state['epoch_index'], train_state['learning_rate'], \n",
        "        train_state['train_loss'][-1], train_state['train_acc'][-1], \n",
        "        train_state['val_loss'][-1], train_state['val_acc'][-1]))\n",
        "\n",
        "    # Save one model at least\n",
        "    if train_state['epoch_index'] == 0:\n",
        "        torch.save(model.state_dict(), train_state['model_filename'])\n",
        "        train_state['stop_early'] = False\n",
        "\n",
        "    # Save model if performance improved\n",
        "    elif train_state['epoch_index'] >= 1:\n",
        "        loss_tm1, loss_t = train_state['val_loss'][-2:]\n",
        "\n",
        "        # If loss worsened\n",
        "        if loss_t >= train_state['early_stopping_best_val']:\n",
        "            # Update step\n",
        "            train_state['early_stopping_step'] += 1\n",
        "\n",
        "        # Loss decreased\n",
        "        else:\n",
        "            # Save the best model\n",
        "            if loss_t < train_state['early_stopping_best_val']:\n",
        "                torch.save(model.state_dict(), train_state['model_filename'])\n",
        "\n",
        "            # Reset early stopping step\n",
        "            train_state['early_stopping_step'] = 0\n",
        "\n",
        "        # Stop early ?\n",
        "        train_state['stop_early'] = train_state['early_stopping_step'] \\\n",
        "          >= train_state['early_stopping_criteria']\n",
        "    return train_state"
      ],
      "execution_count": 0,
      "outputs": []
    },
    {
      "metadata": {
        "id": "Yw8Ek3fvHAwT",
        "colab_type": "code",
        "colab": {}
      },
      "cell_type": "code",
      "source": [
        "class Trainer(object):\n",
        "    def __init__(self, dataset, model, model_file, device, shuffle, \n",
        "               num_epochs, batch_size, learning_rate, early_stopping_criteria):\n",
        "        self.dataset = dataset\n",
        "        self.class_weights = dataset.class_weights.to(device)\n",
        "        self.model = model.to(device)\n",
        "        self.device = device\n",
        "        self.shuffle = shuffle\n",
        "        self.num_epochs = num_epochs\n",
        "        self.batch_size = batch_size\n",
        "        self.loss_func = nn.CrossEntropyLoss(self.class_weights)\n",
        "        self.optimizer = optim.Adam(self.model.parameters(), lr=learning_rate)\n",
        "        self.scheduler = optim.lr_scheduler.ReduceLROnPlateau(\n",
        "            optimizer=self.optimizer, mode='min', factor=0.5, patience=1)\n",
        "        self.train_state = {\n",
        "            'done_training': False,\n",
        "            'stop_early': False, \n",
        "            'early_stopping_step': 0,\n",
        "            'early_stopping_best_val': 1e8,\n",
        "            'early_stopping_criteria': early_stopping_criteria,\n",
        "            'learning_rate': learning_rate,\n",
        "            'epoch_index': 0,\n",
        "            'train_loss': [],\n",
        "            'train_acc': [],\n",
        "            'val_loss': [],\n",
        "            'val_acc': [],\n",
        "            'test_loss': -1,\n",
        "            'test_acc': -1,\n",
        "            'model_filename': model_file}\n",
        "  \n",
        "    def run_train_loop(self):\n",
        "        print (\"==> 🏋 Training:\")\n",
        "        for epoch_index in range(self.num_epochs):\n",
        "            self.train_state['epoch_index'] = epoch_index\n",
        "      \n",
        "            # Iterate over train dataset\n",
        "\n",
        "            # initialize batch generator, set loss and acc to 0, set train mode on\n",
        "            self.dataset.set_split('train')\n",
        "            batch_generator = self.dataset.generate_batches(\n",
        "                batch_size=self.batch_size, shuffle=self.shuffle, \n",
        "                device=self.device)\n",
        "            running_loss = 0.0\n",
        "            running_acc = 0.0\n",
        "            self.model.train()\n",
        "\n",
        "            for batch_index, batch_dict in enumerate(batch_generator):\n",
        "                # zero the gradients\n",
        "                self.optimizer.zero_grad()\n",
        "\n",
        "                # compute the output\n",
        "                y_pred = self.model(batch_dict['image'])\n",
        "\n",
        "                # compute the loss\n",
        "                loss = self.loss_func(y_pred, batch_dict['category'])\n",
        "                loss_t = loss.item()\n",
        "                running_loss += (loss_t - running_loss) / (batch_index + 1)\n",
        "\n",
        "                # compute gradients using loss\n",
        "                loss.backward()\n",
        "\n",
        "                # use optimizer to take a gradient step\n",
        "                self.optimizer.step()\n",
        "                \n",
        "                # compute the accuracy\n",
        "                acc_t = compute_accuracy(y_pred, batch_dict['category'])\n",
        "                running_acc += (acc_t - running_acc) / (batch_index + 1)\n",
        "\n",
        "            self.train_state['train_loss'].append(running_loss)\n",
        "            self.train_state['train_acc'].append(running_acc)\n",
        "\n",
        "            # Iterate over val dataset\n",
        "\n",
        "            # initialize batch generator, set loss and acc to 0; set eval mode on\n",
        "            self.dataset.set_split('val')\n",
        "            batch_generator = self.dataset.generate_batches(\n",
        "                batch_size=self.batch_size, shuffle=self.shuffle, device=self.device)\n",
        "            running_loss = 0.\n",
        "            running_acc = 0.\n",
        "            self.model.eval()\n",
        "\n",
        "            for batch_index, batch_dict in enumerate(batch_generator):\n",
        "\n",
        "                # compute the output\n",
        "                y_pred =  self.model(batch_dict['image'])\n",
        "\n",
        "                # compute the loss\n",
        "                loss = self.loss_func(y_pred, batch_dict['category'])\n",
        "                loss_t = loss.to(\"cpu\").item()\n",
        "                running_loss += (loss_t - running_loss) / (batch_index + 1)\n",
        "\n",
        "                # compute the accuracy\n",
        "                acc_t = compute_accuracy(y_pred, batch_dict['category'])\n",
        "                running_acc += (acc_t - running_acc) / (batch_index + 1)\n",
        "\n",
        "            self.train_state['val_loss'].append(running_loss)\n",
        "            self.train_state['val_acc'].append(running_acc)\n",
        "\n",
        "            self.train_state = update_train_state(model=self.model, train_state=self.train_state)\n",
        "            self.scheduler.step(self.train_state['val_loss'][-1])\n",
        "            if self.train_state['stop_early']:\n",
        "                break\n",
        "          \n",
        "    def run_test_loop(self):\n",
        "        # initialize batch generator, set loss and acc to 0; set eval mode on\n",
        "        self.dataset.set_split('test')\n",
        "        batch_generator = self.dataset.generate_batches(\n",
        "            batch_size=self.batch_size, shuffle=self.shuffle, device=self.device)\n",
        "        running_loss = 0.0\n",
        "        running_acc = 0.0\n",
        "        self.model.eval()\n",
        "\n",
        "        for batch_index, batch_dict in enumerate(batch_generator):\n",
        "            # compute the output\n",
        "            y_pred =  self.model(batch_dict['image'])\n",
        "\n",
        "            # compute the loss\n",
        "            loss = self.loss_func(y_pred, batch_dict['category'])\n",
        "            loss_t = loss.item()\n",
        "            running_loss += (loss_t - running_loss) / (batch_index + 1)\n",
        "\n",
        "            # compute the accuracy\n",
        "            acc_t = compute_accuracy(y_pred, batch_dict['category'])\n",
        "            running_acc += (acc_t - running_acc) / (batch_index + 1)\n",
        "\n",
        "        self.train_state['test_loss'] = running_loss\n",
        "        self.train_state['test_acc'] = running_acc\n",
        "        \n",
        "        # Verbose\n",
        "        print (\"==> 💯 Test performance:\")\n",
        "        print (\"Test loss: {0:.2f}\".format(self.train_state['test_loss']))\n",
        "        print (\"Test Accuracy: {0:.1f}%\".format(self.train_state['test_acc']))"
      ],
      "execution_count": 0,
      "outputs": []
    },
    {
      "metadata": {
        "id": "MVqHg8rqHAt5",
        "colab_type": "code",
        "colab": {}
      },
      "cell_type": "code",
      "source": [
        "def plot_performance(train_state, save_dir, show_plot=True):\n",
        "    \"\"\" Plot loss and accuracy.\n",
        "    \"\"\"\n",
        "    # Figure size\n",
        "    plt.figure(figsize=(15,5))\n",
        "\n",
        "    # Plot Loss\n",
        "    plt.subplot(1, 2, 1)\n",
        "    plt.title(\"Loss\")\n",
        "    plt.plot(train_state[\"train_loss\"], label=\"train\")\n",
        "    plt.plot(train_state[\"val_loss\"], label=\"val\")\n",
        "    plt.legend(loc='upper right')\n",
        "\n",
        "    # Plot Accuracy\n",
        "    plt.subplot(1, 2, 2)\n",
        "    plt.title(\"Accuracy\")\n",
        "    plt.plot(train_state[\"train_acc\"], label=\"train\")\n",
        "    plt.plot(train_state[\"val_acc\"], label=\"val\")\n",
        "    plt.legend(loc='lower right')\n",
        "\n",
        "    # Save figure\n",
        "    plt.savefig(os.path.join(save_dir, \"performance.png\"))\n",
        "\n",
        "    # Show plots\n",
        "    if show_plot:\n",
        "        print (\"==> 📈 Metric plots:\")\n",
        "        plt.show()"
      ],
      "execution_count": 0,
      "outputs": []
    },
    {
      "metadata": {
        "id": "H_dN8IRRHArg",
        "colab_type": "code",
        "colab": {}
      },
      "cell_type": "code",
      "source": [
        "def save_train_state(train_state, save_dir):\n",
        "    train_state[\"done_training\"] = True\n",
        "    with open(os.path.join(save_dir, \"train_state.json\"), \"w\") as fp:\n",
        "        json.dump(train_state, fp)\n",
        "    print (\"==> ✅ Training complete!\")"
      ],
      "execution_count": 0,
      "outputs": []
    },
    {
      "metadata": {
        "id": "7yLIizWvI-KV",
        "colab_type": "text"
      },
      "cell_type": "markdown",
      "source": [
        "### Operations"
      ]
    },
    {
      "metadata": {
        "id": "EtJhoyL2HApb",
        "colab_type": "code",
        "outputId": "866a48cf-b181-43e8-8e24-2e2c74c1b96c",
        "colab": {
          "base_uri": "https://localhost:8080/",
          "height": 125
        }
      },
      "cell_type": "code",
      "source": [
        "# Training\n",
        "trainer = Trainer(\n",
        "    dataset=dataset, model=model, model_file=config[\"model_file\"],\n",
        "    device=config[\"device\"], shuffle=config[\"shuffle\"], \n",
        "    num_epochs=config[\"num_epochs\"], batch_size=config[\"batch_size\"], \n",
        "    learning_rate=config[\"learning_rate\"], \n",
        "    early_stopping_criteria=config[\"early_stopping_criteria\"])\n",
        "trainer.run_train_loop()"
      ],
      "execution_count": 51,
      "outputs": [
        {
          "output_type": "stream",
          "text": [
            "==> 🏋 Training:\n",
            "[EPOCH]: 0 | [LR]: 0.001 | [TRAIN LOSS]: 1.68 | [TRAIN ACC]: 38.8% | [VAL LOSS]: 1.45 | [VAL ACC]: 47.3%\n",
            "[EPOCH]: 1 | [LR]: 0.001 | [TRAIN LOSS]: 1.38 | [TRAIN ACC]: 50.7% | [VAL LOSS]: 1.30 | [VAL ACC]: 53.3%\n",
            "[EPOCH]: 2 | [LR]: 0.001 | [TRAIN LOSS]: 1.26 | [TRAIN ACC]: 55.4% | [VAL LOSS]: 1.19 | [VAL ACC]: 58.3%\n",
            "[EPOCH]: 3 | [LR]: 0.001 | [TRAIN LOSS]: 1.18 | [TRAIN ACC]: 58.2% | [VAL LOSS]: 1.13 | [VAL ACC]: 60.2%\n",
            "[EPOCH]: 4 | [LR]: 0.001 | [TRAIN LOSS]: 1.12 | [TRAIN ACC]: 60.4% | [VAL LOSS]: 1.10 | [VAL ACC]: 60.6%\n"
          ],
          "name": "stdout"
        }
      ]
    },
    {
      "metadata": {
        "id": "2G6I5YWtt_Ea",
        "colab_type": "code",
        "outputId": "44b45a6f-a636-4598-d19c-bc40ce121f96",
        "colab": {
          "base_uri": "https://localhost:8080/",
          "height": 374
        }
      },
      "cell_type": "code",
      "source": [
        "# Plot performance\n",
        "plot_performance(train_state=trainer.train_state, \n",
        "                 save_dir=config[\"save_dir\"], show_plot=True)"
      ],
      "execution_count": 52,
      "outputs": [
        {
          "output_type": "stream",
          "text": [
            "==> 📈 Metric plots:\n"
          ],
          "name": "stdout"
        },
        {
          "output_type": "display_data",
          "data": {
            "image/png": "[encoded data removed]",
            "text/plain": [
              "<Figure size 1080x360 with 2 Axes>"
            ]
          },
          "metadata": {
            "tags": []
          }
        }
      ]
    },
    {
      "metadata": {
        "id": "Iz3G5eaTS04m",
        "colab_type": "code",
        "outputId": "b16c26d3-6b5b-4950-c783-6a5d6d075d88",
        "colab": {
          "base_uri": "https://localhost:8080/",
          "height": 71
        }
      },
      "cell_type": "code",
      "source": [
        "# Test performance\n",
        "trainer.run_test_loop()"
      ],
      "execution_count": 53,
      "outputs": [
        {
          "output_type": "stream",
          "text": [
            "==> 💯 Test performance:\n",
            "Test loss: 1.08\n",
            "Test Accuracy: 62.4%\n"
          ],
          "name": "stdout"
        }
      ]
    },
    {
      "metadata": {
        "id": "kqMzljfpS09F",
        "colab_type": "code",
        "outputId": "5a28e0ad-2413-42f6-b6da-55cba57bac95",
        "colab": {
          "base_uri": "https://localhost:8080/",
          "height": 35
        }
      },
      "cell_type": "code",
      "source": [
        "# Save all results\n",
        "save_train_state(train_state=trainer.train_state, save_dir=config[\"save_dir\"])"
      ],
      "execution_count": 54,
      "outputs": [
        {
          "output_type": "stream",
          "text": [
            "==> ✅ Training complete!\n"
          ],
          "name": "stdout"
        }
      ]
    },
    {
      "metadata": {
        "id": "1fMNOVJUYvhs",
        "colab_type": "text"
      },
      "cell_type": "markdown",
      "source": [
        "~60% test performance for our CIFAR10 dataset is not bad but we can do way better."
      ]
    },
    {
      "metadata": {
        "id": "P9DcE8tHYvfX",
        "colab_type": "text"
      },
      "cell_type": "markdown",
      "source": [
        "# Transfer learning"
      ]
    },
    {
      "metadata": {
        "id": "EclYytw6Swh-",
        "colab_type": "text"
      },
      "cell_type": "markdown",
      "source": [
        "In this section, we're going to use a pretrained model that performs very well on a different dataset. We're going to take the architecture and the initial convolutional weights from the model to use on our data. We will freeze the initial convolutional weights and fine tune the later convolutional and fully-connected layers. \n",
        "\n",
        "Transfer learning works here because the initial convolution layers act as excellent feature extractors for common spatial features that are shared across images regardless of their class. We're going to leverage these large, pretrained models' feature extractors for our own dataset."
      ]
    },
    {
      "metadata": {
        "id": "D8w9CEDeONTY",
        "colab_type": "code",
        "colab": {
          "base_uri": "https://localhost:8080/",
          "height": 145
        },
        "outputId": "b0d2d2b7-7023-4b0f-9224-d9d0c865a328"
      },
      "cell_type": "code",
      "source": [
        "!pip install torchvision"
      ],
      "execution_count": 55,
      "outputs": [
        {
          "output_type": "stream",
          "text": [
            "Requirement already satisfied: torchvision in /usr/local/lib/python3.6/dist-packages (0.2.2.post3)\n",
            "Requirement already satisfied: numpy in /usr/local/lib/python3.6/dist-packages (from torchvision) (1.16.3)\n",
            "Requirement already satisfied: pillow>=4.1.1 in /usr/local/lib/python3.6/dist-packages (from torchvision) (4.3.0)\n",
            "Requirement already satisfied: six in /usr/local/lib/python3.6/dist-packages (from torchvision) (1.12.0)\n",
            "Requirement already satisfied: torch in /usr/local/lib/python3.6/dist-packages (from torchvision) (1.0.1.post2)\n",
            "Requirement already satisfied: olefile in /usr/local/lib/python3.6/dist-packages (from pillow>=4.1.1->torchvision) (0.46)\n"
          ],
          "name": "stdout"
        }
      ]
    },
    {
      "metadata": {
        "id": "mxl4PEfqTMwm",
        "colab_type": "code",
        "colab": {}
      },
      "cell_type": "code",
      "source": [
        "from torchvision import models"
      ],
      "execution_count": 0,
      "outputs": []
    },
    {
      "metadata": {
        "id": "GjufXPDJTB7W",
        "colab_type": "code",
        "outputId": "09885861-5284-42b0-87fe-0b18ebaf7389",
        "colab": {
          "base_uri": "https://localhost:8080/",
          "height": 55
        }
      },
      "cell_type": "code",
      "source": [
        "model_names = sorted(name for name in models.__dict__\n",
        "    if name.islower() and not name.startswith(\"__\")\n",
        "    and callable(models.__dict__[name]))\n",
        "print (model_names)"
      ],
      "execution_count": 57,
      "outputs": [
        {
          "output_type": "stream",
          "text": [
            "['alexnet', 'densenet121', 'densenet161', 'densenet169', 'densenet201', 'inception_v3', 'resnet101', 'resnet152', 'resnet18', 'resnet34', 'resnet50', 'squeezenet1_0', 'squeezenet1_1', 'vgg11', 'vgg11_bn', 'vgg13', 'vgg13_bn', 'vgg16', 'vgg16_bn', 'vgg19', 'vgg19_bn']\n"
          ],
          "name": "stdout"
        }
      ]
    },
    {
      "metadata": {
        "id": "daJN4BSWS016",
        "colab_type": "code",
        "colab": {
          "base_uri": "https://localhost:8080/",
          "height": 1279
        },
        "outputId": "329f2efe-edbb-427b-d9cd-16c98017a169"
      },
      "cell_type": "code",
      "source": [
        "model_name = 'vgg19_bn'\n",
        "vgg_19bn = models.__dict__[model_name](pretrained=True) # Set false to train from scratch\n",
        "print (vgg_19bn.named_parameters)"
      ],
      "execution_count": 58,
      "outputs": [
        {
          "output_type": "stream",
          "text": [
            "Downloading: \"https://download.pytorch.org/models/vgg19_bn-c79401a0.pth\" to /root/.torch/models/vgg19_bn-c79401a0.pth\n",
            "574769405it [00:07, 76584011.40it/s]\n"
          ],
          "name": "stderr"
        },
        {
          "output_type": "stream",
          "text": [
            "<bound method Module.named_parameters of VGG(\n",
            "  (features): Sequential(\n",
            "    (0): Conv2d(3, 64, kernel_size=(3, 3), stride=(1, 1), padding=(1, 1))\n",
            "    (1): BatchNorm2d(64, eps=1e-05, momentum=0.1, affine=True, track_running_stats=True)\n",
            "    (2): ReLU(inplace)\n",
            "    (3): Conv2d(64, 64, kernel_size=(3, 3), stride=(1, 1), padding=(1, 1))\n",
            "    (4): BatchNorm2d(64, eps=1e-05, momentum=0.1, affine=True, track_running_stats=True)\n",
            "    (5): ReLU(inplace)\n",
            "    (6): MaxPool2d(kernel_size=2, stride=2, padding=0, dilation=1, ceil_mode=False)\n",
            "    (7): Conv2d(64, 128, kernel_size=(3, 3), stride=(1, 1), padding=(1, 1))\n",
            "    (8): BatchNorm2d(128, eps=1e-05, momentum=0.1, affine=True, track_running_stats=True)\n",
            "    (9): ReLU(inplace)\n",
            "    (10): Conv2d(128, 128, kernel_size=(3, 3), stride=(1, 1), padding=(1, 1))\n",
            "    (11): BatchNorm2d(128, eps=1e-05, momentum=0.1, affine=True, track_running_stats=True)\n",
            "    (12): ReLU(inplace)\n",
            "    (13): MaxPool2d(kernel_size=2, stride=2, padding=0, dilation=1, ceil_mode=False)\n",
            "    (14): Conv2d(128, 256, kernel_size=(3, 3), stride=(1, 1), padding=(1, 1))\n",
            "    (15): BatchNorm2d(256, eps=1e-05, momentum=0.1, affine=True, track_running_stats=True)\n",
            "    (16): ReLU(inplace)\n",
            "    (17): Conv2d(256, 256, kernel_size=(3, 3), stride=(1, 1), padding=(1, 1))\n",
            "    (18): BatchNorm2d(256, eps=1e-05, momentum=0.1, affine=True, track_running_stats=True)\n",
            "    (19): ReLU(inplace)\n",
            "    (20): Conv2d(256, 256, kernel_size=(3, 3), stride=(1, 1), padding=(1, 1))\n",
            "    (21): BatchNorm2d(256, eps=1e-05, momentum=0.1, affine=True, track_running_stats=True)\n",
            "    (22): ReLU(inplace)\n",
            "    (23): Conv2d(256, 256, kernel_size=(3, 3), stride=(1, 1), padding=(1, 1))\n",
            "    (24): BatchNorm2d(256, eps=1e-05, momentum=0.1, affine=True, track_running_stats=True)\n",
            "    (25): ReLU(inplace)\n",
            "    (26): MaxPool2d(kernel_size=2, stride=2, padding=0, dilation=1, ceil_mode=False)\n",
            "    (27): Conv2d(256, 512, kernel_size=(3, 3), stride=(1, 1), padding=(1, 1))\n",
            "    (28): BatchNorm2d(512, eps=1e-05, momentum=0.1, affine=True, track_running_stats=True)\n",
            "    (29): ReLU(inplace)\n",
            "    (30): Conv2d(512, 512, kernel_size=(3, 3), stride=(1, 1), padding=(1, 1))\n",
            "    (31): BatchNorm2d(512, eps=1e-05, momentum=0.1, affine=True, track_running_stats=True)\n",
            "    (32): ReLU(inplace)\n",
            "    (33): Conv2d(512, 512, kernel_size=(3, 3), stride=(1, 1), padding=(1, 1))\n",
            "    (34): BatchNorm2d(512, eps=1e-05, momentum=0.1, affine=True, track_running_stats=True)\n",
            "    (35): ReLU(inplace)\n",
            "    (36): Conv2d(512, 512, kernel_size=(3, 3), stride=(1, 1), padding=(1, 1))\n",
            "    (37): BatchNorm2d(512, eps=1e-05, momentum=0.1, affine=True, track_running_stats=True)\n",
            "    (38): ReLU(inplace)\n",
            "    (39): MaxPool2d(kernel_size=2, stride=2, padding=0, dilation=1, ceil_mode=False)\n",
            "    (40): Conv2d(512, 512, kernel_size=(3, 3), stride=(1, 1), padding=(1, 1))\n",
            "    (41): BatchNorm2d(512, eps=1e-05, momentum=0.1, affine=True, track_running_stats=True)\n",
            "    (42): ReLU(inplace)\n",
            "    (43): Conv2d(512, 512, kernel_size=(3, 3), stride=(1, 1), padding=(1, 1))\n",
            "    (44): BatchNorm2d(512, eps=1e-05, momentum=0.1, affine=True, track_running_stats=True)\n",
            "    (45): ReLU(inplace)\n",
            "    (46): Conv2d(512, 512, kernel_size=(3, 3), stride=(1, 1), padding=(1, 1))\n",
            "    (47): BatchNorm2d(512, eps=1e-05, momentum=0.1, affine=True, track_running_stats=True)\n",
            "    (48): ReLU(inplace)\n",
            "    (49): Conv2d(512, 512, kernel_size=(3, 3), stride=(1, 1), padding=(1, 1))\n",
            "    (50): BatchNorm2d(512, eps=1e-05, momentum=0.1, affine=True, track_running_stats=True)\n",
            "    (51): ReLU(inplace)\n",
            "    (52): MaxPool2d(kernel_size=2, stride=2, padding=0, dilation=1, ceil_mode=False)\n",
            "  )\n",
            "  (avgpool): AdaptiveAvgPool2d(output_size=(7, 7))\n",
            "  (classifier): Sequential(\n",
            "    (0): Linear(in_features=25088, out_features=4096, bias=True)\n",
            "    (1): ReLU(inplace)\n",
            "    (2): Dropout(p=0.5)\n",
            "    (3): Linear(in_features=4096, out_features=4096, bias=True)\n",
            "    (4): ReLU(inplace)\n",
            "    (5): Dropout(p=0.5)\n",
            "    (6): Linear(in_features=4096, out_features=1000, bias=True)\n",
            "  )\n",
            ")>\n"
          ],
          "name": "stdout"
        }
      ]
    },
    {
      "metadata": {
        "id": "XBudDGFz1j87",
        "colab_type": "text"
      },
      "cell_type": "markdown",
      "source": [
        "The VGG model we chose has a `features` and a `classifier` component. The `features` component is composed of convolution and pooling layers which act as feature extractors. The `classifier` component is composed on fully connected layers. We're going to freeze most of the `feature` component and design our own FC layers for our CIFAR10 task. You can access the default code for all models at `/usr/local/lib/python3.6/dist-packages/torchvision/models` if you prefer cloning and modifying that instead."
      ]
    },
    {
      "metadata": {
        "id": "5rz1g7FrOlQg",
        "colab_type": "text"
      },
      "cell_type": "markdown",
      "source": [
        "### Components"
      ]
    },
    {
      "metadata": {
        "id": "YmzQIXsd59Rj",
        "colab_type": "code",
        "colab": {}
      },
      "cell_type": "code",
      "source": [
        "class ImageModel(nn.Module):\n",
        "    def __init__(self, feature_extractor, num_hidden_units, \n",
        "                 num_classes, dropout_p):\n",
        "        super(ImageModel, self).__init__()\n",
        "        \n",
        "        # Pretrained feature extractor\n",
        "        self.feature_extractor = feature_extractor\n",
        "        \n",
        "        # FC weights\n",
        "        self.classifier = nn.Sequential(\n",
        "            nn.Linear(512, 250, bias=True),\n",
        "            nn.ReLU(),\n",
        "            nn.Dropout(0.5),\n",
        "            nn.Linear(250, 100, bias=True),\n",
        "            nn.ReLU(),\n",
        "            nn.Dropout(0.5),\n",
        "            nn.Linear(100, 10, bias=True),\n",
        "            )\n",
        "\n",
        "    def forward(self, x, apply_softmax=False):\n",
        "          \n",
        "        # Feature extractor\n",
        "        z = self.feature_extractor(x)\n",
        "        z = z.view(x.size(0), -1)\n",
        "        \n",
        "        # FC\n",
        "        y_pred = self.classifier(z)\n",
        "\n",
        "        if apply_softmax:\n",
        "            y_pred = F.softmax(y_pred, dim=1)\n",
        "        return y_pred "
      ],
      "execution_count": 0,
      "outputs": []
    },
    {
      "metadata": {
        "id": "0uVyLE91OnFq",
        "colab_type": "code",
        "colab": {}
      },
      "cell_type": "code",
      "source": [
        "def initialize_model(config, vectorizer, feature_extractor):\n",
        "    \"\"\"Initialize the model.\n",
        "    \"\"\"\n",
        "    print (\"\\n==> 🚀 Initializing model:\")\n",
        "    model = ImageModel(\n",
        "       feature_extractor=feature_extractor,\n",
        "       num_hidden_units=config[\"fc\"][\"hidden_dim\"], \n",
        "       num_classes=len(vectorizer.category_vocab),\n",
        "       dropout_p=config[\"fc\"][\"dropout_p\"])\n",
        "    print (model.named_modules)\n",
        "    return model"
      ],
      "execution_count": 0,
      "outputs": []
    },
    {
      "metadata": {
        "id": "C75F1xbdOnfP",
        "colab_type": "text"
      },
      "cell_type": "markdown",
      "source": [
        "### Operations"
      ]
    },
    {
      "metadata": {
        "id": "czo1bGBwXKNj",
        "colab_type": "code",
        "colab": {
          "base_uri": "https://localhost:8080/",
          "height": 1241
        },
        "outputId": "5a679dc3-ccb9-4c44-f761-6877bc735c98"
      },
      "cell_type": "code",
      "source": [
        "# Initializing model\n",
        "model = initialize_model(config=config, vectorizer=vectorizer, \n",
        "                         feature_extractor=vgg_19bn.features)"
      ],
      "execution_count": 61,
      "outputs": [
        {
          "output_type": "stream",
          "text": [
            "\n",
            "==> 🚀 Initializing model:\n",
            "<bound method Module.named_modules of ImageModel(\n",
            "  (feature_extractor): Sequential(\n",
            "    (0): Conv2d(3, 64, kernel_size=(3, 3), stride=(1, 1), padding=(1, 1))\n",
            "    (1): BatchNorm2d(64, eps=1e-05, momentum=0.1, affine=True, track_running_stats=True)\n",
            "    (2): ReLU(inplace)\n",
            "    (3): Conv2d(64, 64, kernel_size=(3, 3), stride=(1, 1), padding=(1, 1))\n",
            "    (4): BatchNorm2d(64, eps=1e-05, momentum=0.1, affine=True, track_running_stats=True)\n",
            "    (5): ReLU(inplace)\n",
            "    (6): MaxPool2d(kernel_size=2, stride=2, padding=0, dilation=1, ceil_mode=False)\n",
            "    (7): Conv2d(64, 128, kernel_size=(3, 3), stride=(1, 1), padding=(1, 1))\n",
            "    (8): BatchNorm2d(128, eps=1e-05, momentum=0.1, affine=True, track_running_stats=True)\n",
            "    (9): ReLU(inplace)\n",
            "    (10): Conv2d(128, 128, kernel_size=(3, 3), stride=(1, 1), padding=(1, 1))\n",
            "    (11): BatchNorm2d(128, eps=1e-05, momentum=0.1, affine=True, track_running_stats=True)\n",
            "    (12): ReLU(inplace)\n",
            "    (13): MaxPool2d(kernel_size=2, stride=2, padding=0, dilation=1, ceil_mode=False)\n",
            "    (14): Conv2d(128, 256, kernel_size=(3, 3), stride=(1, 1), padding=(1, 1))\n",
            "    (15): BatchNorm2d(256, eps=1e-05, momentum=0.1, affine=True, track_running_stats=True)\n",
            "    (16): ReLU(inplace)\n",
            "    (17): Conv2d(256, 256, kernel_size=(3, 3), stride=(1, 1), padding=(1, 1))\n",
            "    (18): BatchNorm2d(256, eps=1e-05, momentum=0.1, affine=True, track_running_stats=True)\n",
            "    (19): ReLU(inplace)\n",
            "    (20): Conv2d(256, 256, kernel_size=(3, 3), stride=(1, 1), padding=(1, 1))\n",
            "    (21): BatchNorm2d(256, eps=1e-05, momentum=0.1, affine=True, track_running_stats=True)\n",
            "    (22): ReLU(inplace)\n",
            "    (23): Conv2d(256, 256, kernel_size=(3, 3), stride=(1, 1), padding=(1, 1))\n",
            "    (24): BatchNorm2d(256, eps=1e-05, momentum=0.1, affine=True, track_running_stats=True)\n",
            "    (25): ReLU(inplace)\n",
            "    (26): MaxPool2d(kernel_size=2, stride=2, padding=0, dilation=1, ceil_mode=False)\n",
            "    (27): Conv2d(256, 512, kernel_size=(3, 3), stride=(1, 1), padding=(1, 1))\n",
            "    (28): BatchNorm2d(512, eps=1e-05, momentum=0.1, affine=True, track_running_stats=True)\n",
            "    (29): ReLU(inplace)\n",
            "    (30): Conv2d(512, 512, kernel_size=(3, 3), stride=(1, 1), padding=(1, 1))\n",
            "    (31): BatchNorm2d(512, eps=1e-05, momentum=0.1, affine=True, track_running_stats=True)\n",
            "    (32): ReLU(inplace)\n",
            "    (33): Conv2d(512, 512, kernel_size=(3, 3), stride=(1, 1), padding=(1, 1))\n",
            "    (34): BatchNorm2d(512, eps=1e-05, momentum=0.1, affine=True, track_running_stats=True)\n",
            "    (35): ReLU(inplace)\n",
            "    (36): Conv2d(512, 512, kernel_size=(3, 3), stride=(1, 1), padding=(1, 1))\n",
            "    (37): BatchNorm2d(512, eps=1e-05, momentum=0.1, affine=True, track_running_stats=True)\n",
            "    (38): ReLU(inplace)\n",
            "    (39): MaxPool2d(kernel_size=2, stride=2, padding=0, dilation=1, ceil_mode=False)\n",
            "    (40): Conv2d(512, 512, kernel_size=(3, 3), stride=(1, 1), padding=(1, 1))\n",
            "    (41): BatchNorm2d(512, eps=1e-05, momentum=0.1, affine=True, track_running_stats=True)\n",
            "    (42): ReLU(inplace)\n",
            "    (43): Conv2d(512, 512, kernel_size=(3, 3), stride=(1, 1), padding=(1, 1))\n",
            "    (44): BatchNorm2d(512, eps=1e-05, momentum=0.1, affine=True, track_running_stats=True)\n",
            "    (45): ReLU(inplace)\n",
            "    (46): Conv2d(512, 512, kernel_size=(3, 3), stride=(1, 1), padding=(1, 1))\n",
            "    (47): BatchNorm2d(512, eps=1e-05, momentum=0.1, affine=True, track_running_stats=True)\n",
            "    (48): ReLU(inplace)\n",
            "    (49): Conv2d(512, 512, kernel_size=(3, 3), stride=(1, 1), padding=(1, 1))\n",
            "    (50): BatchNorm2d(512, eps=1e-05, momentum=0.1, affine=True, track_running_stats=True)\n",
            "    (51): ReLU(inplace)\n",
            "    (52): MaxPool2d(kernel_size=2, stride=2, padding=0, dilation=1, ceil_mode=False)\n",
            "  )\n",
            "  (classifier): Sequential(\n",
            "    (0): Linear(in_features=512, out_features=250, bias=True)\n",
            "    (1): ReLU()\n",
            "    (2): Dropout(p=0.5)\n",
            "    (3): Linear(in_features=250, out_features=100, bias=True)\n",
            "    (4): ReLU()\n",
            "    (5): Dropout(p=0.5)\n",
            "    (6): Linear(in_features=100, out_features=10, bias=True)\n",
            "  )\n",
            ")>\n"
          ],
          "name": "stdout"
        }
      ]
    },
    {
      "metadata": {
        "id": "hZybxGHoDTwQ",
        "colab_type": "code",
        "colab": {}
      },
      "cell_type": "code",
      "source": [
        "# Finetune last few conv layers and FC layers\n",
        "for i, param in enumerate(model.feature_extractor.parameters()):\n",
        "    if i < 36:\n",
        "        param.requires_grad = False\n",
        "    else:\n",
        "        param.requires_grad = True"
      ],
      "execution_count": 0,
      "outputs": []
    },
    {
      "metadata": {
        "id": "GTbYKussTvB2",
        "colab_type": "code",
        "outputId": "b9467008-945b-47a7-8ddf-fdb6c76035a5",
        "colab": {
          "base_uri": "https://localhost:8080/",
          "height": 125
        }
      },
      "cell_type": "code",
      "source": [
        "# Training\n",
        "trainer = Trainer(\n",
        "    dataset=dataset, model=model, model_file=config[\"model_file\"],\n",
        "    device=config[\"device\"], shuffle=config[\"shuffle\"], \n",
        "    num_epochs=config[\"num_epochs\"], batch_size=config[\"batch_size\"], \n",
        "    learning_rate=config[\"learning_rate\"], \n",
        "    early_stopping_criteria=config[\"early_stopping_criteria\"])\n",
        "trainer.run_train_loop()"
      ],
      "execution_count": 63,
      "outputs": [
        {
          "output_type": "stream",
          "text": [
            "==> 🏋 Training:\n",
            "[EPOCH]: 0 | [LR]: 0.001 | [TRAIN LOSS]: 0.96 | [TRAIN ACC]: 70.2% | [VAL LOSS]: 0.62 | [VAL ACC]: 80.7%\n",
            "[EPOCH]: 1 | [LR]: 0.001 | [TRAIN LOSS]: 0.58 | [TRAIN ACC]: 83.0% | [VAL LOSS]: 0.54 | [VAL ACC]: 82.8%\n",
            "[EPOCH]: 2 | [LR]: 0.001 | [TRAIN LOSS]: 0.43 | [TRAIN ACC]: 87.5% | [VAL LOSS]: 0.56 | [VAL ACC]: 83.6%\n",
            "[EPOCH]: 3 | [LR]: 0.001 | [TRAIN LOSS]: 0.32 | [TRAIN ACC]: 90.4% | [VAL LOSS]: 0.56 | [VAL ACC]: 83.7%\n",
            "[EPOCH]: 4 | [LR]: 0.001 | [TRAIN LOSS]: 0.18 | [TRAIN ACC]: 94.8% | [VAL LOSS]: 0.53 | [VAL ACC]: 86.2%\n"
          ],
          "name": "stdout"
        }
      ]
    },
    {
      "metadata": {
        "id": "NCLCnQgATvMj",
        "colab_type": "code",
        "outputId": "2ca07a17-29cd-482f-fc52-f6f4ebd6f14d",
        "colab": {
          "base_uri": "https://localhost:8080/",
          "height": 374
        }
      },
      "cell_type": "code",
      "source": [
        "# Plot performance\n",
        "plot_performance(train_state=trainer.train_state, \n",
        "                 save_dir=config[\"save_dir\"], show_plot=True)"
      ],
      "execution_count": 64,
      "outputs": [
        {
          "output_type": "stream",
          "text": [
            "==> 📈 Metric plots:\n"
          ],
          "name": "stdout"
        },
        {
          "output_type": "display_data",
          "data": {
            "image/png": "[encoded data removed]",
            "text/plain": [
              "<Figure size 1080x360 with 2 Axes>"
            ]
          },
          "metadata": {
            "tags": []
          }
        }
      ]
    },
    {
      "metadata": {
        "id": "Hjn0HJVoTvJ0",
        "colab_type": "code",
        "outputId": "a9b14a30-aeb0-4773-a753-7721b44fcfd3",
        "colab": {
          "base_uri": "https://localhost:8080/",
          "height": 71
        }
      },
      "cell_type": "code",
      "source": [
        "# Test performance\n",
        "trainer.run_test_loop()"
      ],
      "execution_count": 65,
      "outputs": [
        {
          "output_type": "stream",
          "text": [
            "==> 💯 Test performance:\n",
            "Test loss: 0.50\n",
            "Test Accuracy: 86.9%\n"
          ],
          "name": "stdout"
        }
      ]
    },
    {
      "metadata": {
        "id": "ZQVrGTNNTvH0",
        "colab_type": "code",
        "outputId": "d2139618-e679-47b0-bc26-ebf71e5e120e",
        "colab": {
          "base_uri": "https://localhost:8080/",
          "height": 35
        }
      },
      "cell_type": "code",
      "source": [
        "# Save all results\n",
        "save_train_state(train_state=trainer.train_state, save_dir=config[\"save_dir\"])"
      ],
      "execution_count": 66,
      "outputs": [
        {
          "output_type": "stream",
          "text": [
            "==> ✅ Training complete!\n"
          ],
          "name": "stdout"
        }
      ]
    },
    {
      "metadata": {
        "id": "7CL689FebJhf",
        "colab_type": "text"
      },
      "cell_type": "markdown",
      "source": [
        "Much better performance! If you let it train long enough, we'll actually reach ~95% accuracy :)"
      ]
    },
    {
      "metadata": {
        "id": "02iDXCtiYo5K",
        "colab_type": "text"
      },
      "cell_type": "markdown",
      "source": [
        "## Inference"
      ]
    },
    {
      "metadata": {
        "id": "cVT--tAvnOu7",
        "colab_type": "code",
        "colab": {}
      },
      "cell_type": "code",
      "source": [
        "from pylab import rcParams\n",
        "rcParams['figure.figsize'] = 2, 2"
      ],
      "execution_count": 0,
      "outputs": []
    },
    {
      "metadata": {
        "id": "KFEGIgA1NKJ-",
        "colab_type": "text"
      },
      "cell_type": "markdown",
      "source": [
        "### Components"
      ]
    },
    {
      "metadata": {
        "id": "5IH9qjDpNW8m",
        "colab_type": "code",
        "colab": {}
      },
      "cell_type": "code",
      "source": [
        "class Inference(object):\n",
        "    def __init__(self, model, vectorizer, device=\"cpu\"):\n",
        "        self.model = model.to(device)\n",
        "        self.vectorizer = vectorizer\n",
        "        self.device = device\n",
        "  \n",
        "    def predict_category(self, dataset):\n",
        "        # Batch generator\n",
        "        batch_generator = dataset.generate_batches(\n",
        "            batch_size=len(dataset), shuffle=False, device=self.device)\n",
        "        self.model.eval()\n",
        "        \n",
        "        # Predict\n",
        "        for batch_index, batch_dict in enumerate(batch_generator):\n",
        "            # compute the output\n",
        "            y_pred =  self.model(batch_dict['image'], apply_softmax=True)\n",
        "\n",
        "            # Top k categories\n",
        "            y_prob, indices = torch.topk(y_pred, k=len(self.vectorizer.category_vocab))\n",
        "            probabilities = y_prob.detach().to('cpu').numpy()[0]\n",
        "            indices = indices.detach().to('cpu').numpy()[0]\n",
        "\n",
        "            results = []\n",
        "            for probability, index in zip(probabilities, indices):\n",
        "                category = self.vectorizer.category_vocab.lookup_index(index)\n",
        "                results.append({'category': category, 'probability': probability})\n",
        "\n",
        "        return results"
      ],
      "execution_count": 0,
      "outputs": []
    },
    {
      "metadata": {
        "id": "uFJ7Dmn4NLm7",
        "colab_type": "text"
      },
      "cell_type": "markdown",
      "source": [
        "### Operations"
      ]
    },
    {
      "metadata": {
        "id": "OtKJsv4HNLsN",
        "colab_type": "code",
        "colab": {}
      },
      "cell_type": "code",
      "source": [
        "# Load vectorizer\n",
        "with open(config[\"vectorizer_file\"]) as fp:\n",
        "    vectorizer = ImageVectorizer.from_serializable(json.load(fp))"
      ],
      "execution_count": 0,
      "outputs": []
    },
    {
      "metadata": {
        "id": "iAeHP-FvP26o",
        "colab_type": "code",
        "colab": {
          "base_uri": "https://localhost:8080/",
          "height": 1241
        },
        "outputId": "997b28ad-c4b8-4f05-fc78-51ad373278a2"
      },
      "cell_type": "code",
      "source": [
        "# Load the model\n",
        "model = initialize_model(config=config, vectorizer=vectorizer, feature_extractor=vgg_19bn.features)\n",
        "model.load_state_dict(torch.load(config[\"model_file\"]))"
      ],
      "execution_count": 70,
      "outputs": [
        {
          "output_type": "stream",
          "text": [
            "\n",
            "==> 🚀 Initializing model:\n",
            "<bound method Module.named_modules of ImageModel(\n",
            "  (feature_extractor): Sequential(\n",
            "    (0): Conv2d(3, 64, kernel_size=(3, 3), stride=(1, 1), padding=(1, 1))\n",
            "    (1): BatchNorm2d(64, eps=1e-05, momentum=0.1, affine=True, track_running_stats=True)\n",
            "    (2): ReLU(inplace)\n",
            "    (3): Conv2d(64, 64, kernel_size=(3, 3), stride=(1, 1), padding=(1, 1))\n",
            "    (4): BatchNorm2d(64, eps=1e-05, momentum=0.1, affine=True, track_running_stats=True)\n",
            "    (5): ReLU(inplace)\n",
            "    (6): MaxPool2d(kernel_size=2, stride=2, padding=0, dilation=1, ceil_mode=False)\n",
            "    (7): Conv2d(64, 128, kernel_size=(3, 3), stride=(1, 1), padding=(1, 1))\n",
            "    (8): BatchNorm2d(128, eps=1e-05, momentum=0.1, affine=True, track_running_stats=True)\n",
            "    (9): ReLU(inplace)\n",
            "    (10): Conv2d(128, 128, kernel_size=(3, 3), stride=(1, 1), padding=(1, 1))\n",
            "    (11): BatchNorm2d(128, eps=1e-05, momentum=0.1, affine=True, track_running_stats=True)\n",
            "    (12): ReLU(inplace)\n",
            "    (13): MaxPool2d(kernel_size=2, stride=2, padding=0, dilation=1, ceil_mode=False)\n",
            "    (14): Conv2d(128, 256, kernel_size=(3, 3), stride=(1, 1), padding=(1, 1))\n",
            "    (15): BatchNorm2d(256, eps=1e-05, momentum=0.1, affine=True, track_running_stats=True)\n",
            "    (16): ReLU(inplace)\n",
            "    (17): Conv2d(256, 256, kernel_size=(3, 3), stride=(1, 1), padding=(1, 1))\n",
            "    (18): BatchNorm2d(256, eps=1e-05, momentum=0.1, affine=True, track_running_stats=True)\n",
            "    (19): ReLU(inplace)\n",
            "    (20): Conv2d(256, 256, kernel_size=(3, 3), stride=(1, 1), padding=(1, 1))\n",
            "    (21): BatchNorm2d(256, eps=1e-05, momentum=0.1, affine=True, track_running_stats=True)\n",
            "    (22): ReLU(inplace)\n",
            "    (23): Conv2d(256, 256, kernel_size=(3, 3), stride=(1, 1), padding=(1, 1))\n",
            "    (24): BatchNorm2d(256, eps=1e-05, momentum=0.1, affine=True, track_running_stats=True)\n",
            "    (25): ReLU(inplace)\n",
            "    (26): MaxPool2d(kernel_size=2, stride=2, padding=0, dilation=1, ceil_mode=False)\n",
            "    (27): Conv2d(256, 512, kernel_size=(3, 3), stride=(1, 1), padding=(1, 1))\n",
            "    (28): BatchNorm2d(512, eps=1e-05, momentum=0.1, affine=True, track_running_stats=True)\n",
            "    (29): ReLU(inplace)\n",
            "    (30): Conv2d(512, 512, kernel_size=(3, 3), stride=(1, 1), padding=(1, 1))\n",
            "    (31): BatchNorm2d(512, eps=1e-05, momentum=0.1, affine=True, track_running_stats=True)\n",
            "    (32): ReLU(inplace)\n",
            "    (33): Conv2d(512, 512, kernel_size=(3, 3), stride=(1, 1), padding=(1, 1))\n",
            "    (34): BatchNorm2d(512, eps=1e-05, momentum=0.1, affine=True, track_running_stats=True)\n",
            "    (35): ReLU(inplace)\n",
            "    (36): Conv2d(512, 512, kernel_size=(3, 3), stride=(1, 1), padding=(1, 1))\n",
            "    (37): BatchNorm2d(512, eps=1e-05, momentum=0.1, affine=True, track_running_stats=True)\n",
            "    (38): ReLU(inplace)\n",
            "    (39): MaxPool2d(kernel_size=2, stride=2, padding=0, dilation=1, ceil_mode=False)\n",
            "    (40): Conv2d(512, 512, kernel_size=(3, 3), stride=(1, 1), padding=(1, 1))\n",
            "    (41): BatchNorm2d(512, eps=1e-05, momentum=0.1, affine=True, track_running_stats=True)\n",
            "    (42): ReLU(inplace)\n",
            "    (43): Conv2d(512, 512, kernel_size=(3, 3), stride=(1, 1), padding=(1, 1))\n",
            "    (44): BatchNorm2d(512, eps=1e-05, momentum=0.1, affine=True, track_running_stats=True)\n",
            "    (45): ReLU(inplace)\n",
            "    (46): Conv2d(512, 512, kernel_size=(3, 3), stride=(1, 1), padding=(1, 1))\n",
            "    (47): BatchNorm2d(512, eps=1e-05, momentum=0.1, affine=True, track_running_stats=True)\n",
            "    (48): ReLU(inplace)\n",
            "    (49): Conv2d(512, 512, kernel_size=(3, 3), stride=(1, 1), padding=(1, 1))\n",
            "    (50): BatchNorm2d(512, eps=1e-05, momentum=0.1, affine=True, track_running_stats=True)\n",
            "    (51): ReLU(inplace)\n",
            "    (52): MaxPool2d(kernel_size=2, stride=2, padding=0, dilation=1, ceil_mode=False)\n",
            "  )\n",
            "  (classifier): Sequential(\n",
            "    (0): Linear(in_features=512, out_features=250, bias=True)\n",
            "    (1): ReLU()\n",
            "    (2): Dropout(p=0.5)\n",
            "    (3): Linear(in_features=250, out_features=100, bias=True)\n",
            "    (4): ReLU()\n",
            "    (5): Dropout(p=0.5)\n",
            "    (6): Linear(in_features=100, out_features=10, bias=True)\n",
            "  )\n",
            ")>\n"
          ],
          "name": "stdout"
        }
      ]
    },
    {
      "metadata": {
        "id": "OlOlBXp-mWYT",
        "colab_type": "code",
        "colab": {}
      },
      "cell_type": "code",
      "source": [
        "# Initialize\n",
        "inference = Inference(model=model, vectorizer=vectorizer, device=config[\"device\"])"
      ],
      "execution_count": 0,
      "outputs": []
    },
    {
      "metadata": {
        "id": "6NwjskFsysKb",
        "colab_type": "code",
        "outputId": "8bfb28b4-3a45-4118-81cd-c051cf096f08",
        "colab": {
          "base_uri": "https://localhost:8080/",
          "height": 195
        }
      },
      "cell_type": "code",
      "source": [
        "# Get a sample\n",
        "sample = split_df[split_df.split==\"test\"].iloc[0]\n",
        "plt.imshow(sample.image)\n",
        "plt.axis(\"off\")\n",
        "print (\"Actual:\", sample.category)"
      ],
      "execution_count": 72,
      "outputs": [
        {
          "output_type": "stream",
          "text": [
            "Clipping input data to the valid range for imshow with RGB data ([0..1] for floats or [0..255] for integers).\n"
          ],
          "name": "stderr"
        },
        {
          "output_type": "stream",
          "text": [
            "Actual: bird\n"
          ],
          "name": "stdout"
        },
        {
          "output_type": "display_data",
          "data": {
            "image/png": "[encoded data removed]",
            "text/plain": [
              "<Figure size 144x144 with 1 Axes>"
            ]
          },
          "metadata": {
            "tags": []
          }
        }
      ]
    },
    {
      "metadata": {
        "id": "cp-rN2eeybae",
        "colab_type": "code",
        "outputId": "ca7781f0-e2d9-44fc-86e9-ac45843eaf39",
        "colab": {
          "base_uri": "https://localhost:8080/",
          "height": 197
        }
      },
      "cell_type": "code",
      "source": [
        "# Inference\n",
        "category = list(vectorizer.category_vocab.token_to_idx.keys())[0] # random filler category\n",
        "infer_df = pd.DataFrame([[sample.image, category, \"infer\"]], columns=['image', 'category', 'split'])\n",
        "infer_dataset = ImageDataset(df=infer_df, vectorizer=vectorizer, infer=True)\n",
        "results = inference.predict_category(dataset=infer_dataset)\n",
        "results"
      ],
      "execution_count": 73,
      "outputs": [
        {
          "output_type": "execute_result",
          "data": {
            "text/plain": [
              "[{'category': 'bird', 'probability': 0.8184995},\n",
              " {'category': 'cat', 'probability': 0.10784752},\n",
              " {'category': 'plane', 'probability': 0.027508354},\n",
              " {'category': 'frog', 'probability': 0.027176514},\n",
              " {'category': 'deer', 'probability': 0.009407063},\n",
              " {'category': 'dog', 'probability': 0.007851976},\n",
              " {'category': 'horse', 'probability': 0.0007745522},\n",
              " {'category': 'ship', 'probability': 0.00068614155},\n",
              " {'category': 'truck', 'probability': 0.00016465849},\n",
              " {'category': 'car', 'probability': 8.3605286e-05}]"
            ]
          },
          "metadata": {
            "tags": []
          },
          "execution_count": 73
        }
      ]
    },
    {
      "metadata": {
        "id": "1YHneO3SStOp",
        "colab_type": "text"
      },
      "cell_type": "markdown",
      "source": [
        "# TODO"
      ]
    },
    {
      "metadata": {
        "id": "gGHaKTe1SuEk",
        "colab_type": "text"
      },
      "cell_type": "markdown",
      "source": [
        "- segmentation\n",
        "- interpretability via activation maps\n",
        "- processing images of different sizes"
      ]
    }
  ]
}